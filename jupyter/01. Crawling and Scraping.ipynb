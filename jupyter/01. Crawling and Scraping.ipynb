{
 "cells": [
  {
   "cell_type": "markdown",
   "metadata": {},
   "source": [
    "# 1.1 データのダウンロード"
   ]
  },
  {
   "cell_type": "markdown",
   "metadata": {},
   "source": [
    "## `urllib.request.urlretrieve()`を使ったダウンロード"
   ]
  },
  {
   "cell_type": "markdown",
   "metadata": {},
   "source": [
    "最初に、Webサイトからファイルをダウンロードする方法について学ぶ。  \n",
    "`urllib.request`ライブラリの`urlretrieve()`を使用すれば、保存元URLと保存先ディレクトリを指定するだけでファイルをダウンロードできる。"
   ]
  },
  {
   "cell_type": "code",
   "execution_count": 1,
   "metadata": {
    "collapsed": false
   },
   "outputs": [
    {
     "name": "stdout",
     "output_type": "stream",
     "text": [
      "download done\n"
     ]
    }
   ],
   "source": [
    "import urllib.request\n",
    "\n",
    "url = \"http://uta.pw/shodou/img/28/214.png\"\n",
    "savedirname = \"items\"\n",
    "savefilename = \"test.png\"\n",
    "urllib.request.urlretrieve(url, savedirname + \"/\" + savefilename)\n",
    "print(\"download done\")"
   ]
  },
  {
   "cell_type": "markdown",
   "metadata": {},
   "source": [
    "<img src=\"items/test.png\" alt=\"画像を取得できていません\">"
   ]
  },
  {
   "cell_type": "code",
   "execution_count": 2,
   "metadata": {
    "collapsed": false
   },
   "outputs": [],
   "source": [
    "# 上記で取得したファイルを削除する\n",
    "import os\n",
    "deletedirname = savedirname\n",
    "deletefilename = savefilename\n",
    "os.remove(deletedirname + \"/\" + deletefilename)"
   ]
  },
  {
   "cell_type": "markdown",
   "metadata": {
    "collapsed": true
   },
   "source": [
    "## `urllib.request.urlopen()`を使ったダウンロード"
   ]
  },
  {
   "cell_type": "markdown",
   "metadata": {},
   "source": [
    "上記では`retrieve()`を使ってファイルを直接保存した。  \n",
    "今回は、取得したデータをメモリ上に保持するため、`request.urlopen()`を使用する。"
   ]
  },
  {
   "cell_type": "code",
   "execution_count": 3,
   "metadata": {
    "collapsed": false
   },
   "outputs": [
    {
     "name": "stdout",
     "output_type": "stream",
     "text": [
      "download done\n"
     ]
    }
   ],
   "source": [
    "import urllib.request\n",
    "\n",
    "url = \"http://uta.pw/shodou/img/28/214.png\"\n",
    "savename = \"items/test2.png\"\n",
    "\n",
    "mem = urllib.request.urlopen(url).read()\n",
    "\n",
    "# ファイルに保存\n",
    "with open(savename, mode=\"wb\") as fd:\n",
    "    fd.write(mem)\n",
    "    print(\"download done\")"
   ]
  },
  {
   "cell_type": "markdown",
   "metadata": {},
   "source": [
    "<img src=\"items/test2.png\" alt=\"画像を取得できていません\">"
   ]
  },
  {
   "cell_type": "code",
   "execution_count": 4,
   "metadata": {
    "collapsed": true
   },
   "outputs": [],
   "source": [
    "# 上記で取得したファイルを削除する\n",
    "import os\n",
    "os.remove(savename)"
   ]
  },
  {
   "cell_type": "markdown",
   "metadata": {},
   "source": [
    "## Webからデータを取得する"
   ]
  },
  {
   "cell_type": "markdown",
   "metadata": {},
   "source": [
    "著者が用意している「クジラ Web API」を使ってWebデータを取得する。"
   ]
  },
  {
   "cell_type": "code",
   "execution_count": 5,
   "metadata": {
    "collapsed": false
   },
   "outputs": [
    {
     "name": "stdout",
     "output_type": "stream",
     "text": [
      "[ip]\n",
      "API_URI=http://api.aoikujira.com/ip/get.php\n",
      "REMOTE_ADDR=126.48.244.33\n",
      "REMOTE_HOST=softbank126048244033.bbtec.net\n",
      "REMOTE_PORT=49412\n",
      "HTTP_HOST=api.aoikujira.com\n",
      "HTTP_USER_AGENT=Python-urllib/3.5\n",
      "HTTP_ACCEPT_LANGUAGE=\n",
      "HTTP_ACCEPT_CHARSET=\n",
      "SERVER_PORT=80\n",
      "FORMAT=ini\n",
      "\n",
      "\n"
     ]
    }
   ],
   "source": [
    "import urllib.request\n",
    "\n",
    "# データを取得する\n",
    "url = \"http://api.aoikujira.com/ip/ini\"\n",
    "data = urllib.request.urlopen(url).read()\n",
    "\n",
    "# バイナリデータをutf-8にエンコードする\n",
    "text = data.decode(\"utf-8\")\n",
    "print(text)"
   ]
  },
  {
   "cell_type": "markdown",
   "metadata": {},
   "source": [
    "### 任意のパラメータを付けてリクエストを送信する"
   ]
  },
  {
   "cell_type": "markdown",
   "metadata": {},
   "source": [
    "URLの末尾に`?aaa=xxx&bbb=yyy&ccc=zzz`の形式のパラメータを付けてリクエストを送信する。"
   ]
  },
  {
   "cell_type": "code",
   "execution_count": 6,
   "metadata": {
    "collapsed": false
   },
   "outputs": [
    {
     "name": "stdout",
     "output_type": "stream",
     "text": [
      "url= http://api.aoikujira.com/zip/xml/get.php?fmt=xml&zn=1500042\n",
      "<?xml version=\"1.0\" encoding=\"utf-8\" ?>\n",
      "<address result=\"1\">\n",
      "<header>\n",
      "  <result>1</result>\n",
      "  <api>api.aoikujira.com/zip</api>\n",
      "  <version>1.1</version>\n",
      "</header>\n",
      "<value>\n",
      "  <zip>1500042</zip>\n",
      "  <ken>東京都</ken>\n",
      "  <shi>渋谷区</shi>\n",
      "  <cho>宇田川町</cho>\n",
      "  <disp>東京都渋谷区宇田川町</disp>\n",
      "  <kenkana>トウキョウト</kenkana>\n",
      "  <shikana>シブヤク</shikana>\n",
      "  <chokana>ウダガワチョウ</chokana>\n",
      "</value>\n",
      "</address>\n"
     ]
    }
   ],
   "source": [
    "import urllib.request\n",
    "import urllib.parse\n",
    "\n",
    "API = \"http://api.aoikujira.com/zip/xml/get.php\"\n",
    "\n",
    "# パラメータを作成する\n",
    "values = {\n",
    "    'fmt' : 'xml',\n",
    "    'zn' : '1500042'\n",
    "}\n",
    "\n",
    "# パラメータをURLエンコードする\n",
    "params = urllib.parse.urlencode(values)\n",
    "\n",
    "# リクエスト用のURLを生成\n",
    "url = API + \"?\" + params\n",
    "print(\"url=\", url)\n",
    "\n",
    "# データをダウンロードする\n",
    "data = urllib.request.urlopen(url).read()\n",
    "\n",
    "# データをバイナリからutf-8に変換する\n",
    "text = data.decode(\"utf-8\")\n",
    "\n",
    "print(text)"
   ]
  },
  {
   "cell_type": "markdown",
   "metadata": {},
   "source": [
    "### 百人一首を検索するコマンドを自作する"
   ]
  },
  {
   "cell_type": "markdown",
   "metadata": {},
   "source": [
    "下記仕様のAPIを使用して、百人一首を取得する。   \n",
    "\n",
    "[URL]\n",
    "- http://api.aoikujira.com/hyakunin/get.php\n",
    "\n",
    "[パラメータ]\n",
    "\n",
    "- fmt : 検索結果の形式をini/xml/jsonで指定\n",
    "- key : 検索キーワードを指定"
   ]
  },
  {
   "cell_type": "code",
   "execution_count": 7,
   "metadata": {
    "collapsed": false
   },
   "outputs": [
    {
     "name": "stdout",
     "output_type": "stream",
     "text": [
      "ファイルフォーマット(ini/xml/json) >> ini\n",
      "百人一首検索 >> 冬\n",
      "url= http://api.aoikujira.com/hyakunin/get.php?fmt=ini&key=%E5%86%AC\n",
      "[item28]\n",
      "kami=山里は 冬ぞさびしさ まさりける\n",
      "simo=人目も草も かれぬと思へば\n",
      "kami_kana=やまさとはふゆそさびしさまさりける\n",
      "simo_kana=ひとめもくさもかれぬとおもへは\n",
      "sakusya=源宗行朝臣\n",
      "\n",
      "\n"
     ]
    }
   ],
   "source": [
    "import urllib.request\n",
    "import urllib.parse\n",
    "\n",
    "API = \"http://api.aoikujira.com/hyakunin/get.php\"\n",
    "\n",
    "# パラメータを作成する\n",
    "values = {\n",
    "    'fmt' : 'xml',\n",
    "    'key' : '秋の田の'\n",
    "}\n",
    "\n",
    "values['fmt'] = input(\"ファイルフォーマット(ini/xml/json) >> \")\n",
    "values['key'] = input(\"百人一首検索 >> \")\n",
    "\n",
    "# パラメータをURLエンコードする\n",
    "params = urllib.parse.urlencode(values)\n",
    "\n",
    "# リクエスト用のURLを生成\n",
    "url = API + \"?\" + params\n",
    "print(\"url=\", url)\n",
    "\n",
    "# データをダウンロードする\n",
    "data = urllib.request.urlopen(url).read()\n",
    "\n",
    "# データをバイナリからutf-8に変換する\n",
    "text = data.decode(\"utf-8\")\n",
    "\n",
    "print(text)"
   ]
  },
  {
   "cell_type": "markdown",
   "metadata": {},
   "source": [
    "# 1.2 Beautiful Soupを使ってスクレイピングする"
   ]
  },
  {
   "cell_type": "markdown",
   "metadata": {},
   "source": [
    "Beautiful Soupは、HTMLやXMLを解析するライブラリである。  \n",
    "したがって、データをダウンロードする機能はない。  \n",
    "使用するためには、予め`pip`コマンドなどで`beautifulsoup4`をインストールすること。"
   ]
  },
  {
   "cell_type": "markdown",
   "metadata": {},
   "source": [
    "### Beautiful Soupの基本的な使い方"
   ]
  },
  {
   "cell_type": "markdown",
   "metadata": {},
   "source": [
    "使用例として、Webサイトからではなく、プログラム内で作成したHTML形式の文字列を解析する。"
   ]
  },
  {
   "cell_type": "code",
   "execution_count": 8,
   "metadata": {
    "collapsed": false
   },
   "outputs": [
    {
     "name": "stdout",
     "output_type": "stream",
     "text": [
      "h1 = スクレイピングとは?\n",
      "p1 = Webページを解析すること。\n",
      "p2 = 任意の箇所を抽出すること。\n"
     ]
    }
   ],
   "source": [
    "from bs4 import BeautifulSoup\n",
    "\n",
    "html = \"\"\"\n",
    "<html>\n",
    "<body>\n",
    "<h1>スクレイピングとは?</h1>\n",
    "<p>Webページを解析すること。</p>\n",
    "<p>任意の箇所を抽出すること。</p>\n",
    "</body>\n",
    "</html>\n",
    "\"\"\"\n",
    "\n",
    "# HTMLを解析する\n",
    "soup = BeautifulSoup(html, 'html.parser')\n",
    "\n",
    "# 任意の部分を抽出する\n",
    "h1 = soup.html.body.h1\n",
    "p1 = soup.html.p\n",
    "p2 = p1.next_sibling.next_sibling # next_sibling1回だと、1個目のpの直後の「改行やスペース」を取得する。\n",
    "\n",
    "# 要素のテキストを表示する\n",
    "print(\"h1 = \" + h1.string)\n",
    "print(\"p1 = \" + p1.string)\n",
    "print(\"p2 = \" + p2.string)\n"
   ]
  },
  {
   "cell_type": "markdown",
   "metadata": {},
   "source": [
    "### 任意のidで要素を探す方法"
   ]
  },
  {
   "cell_type": "code",
   "execution_count": 9,
   "metadata": {
    "collapsed": false
   },
   "outputs": [
    {
     "name": "stdout",
     "output_type": "stream",
     "text": [
      "#title=スクレイピングとは?\n",
      "#body=Webページから任意のデータを抽出すること。\n",
      "type of \"title\": <class 'bs4.element.Tag'>\n"
     ]
    }
   ],
   "source": [
    "from bs4 import BeautifulSoup\n",
    "html = \"\"\"\n",
    "<html>\n",
    "<body>\n",
    "<h1 id=\"title\">スクレイピングとは?</h1>\n",
    "<p id=\"body\">Webページから任意のデータを抽出すること。</p>\n",
    "</body>\n",
    "</html>\n",
    "\"\"\"\n",
    "\n",
    "# HTMLを解析する\n",
    "soup = BeautifulSoup(html, 'html.parser')\n",
    "\n",
    "# find()メソッドでidを指定して取り出す\n",
    "title = soup.find(id='title')\n",
    "body = soup.find(id='body')\n",
    "\n",
    "# テキスト部分を表示\n",
    "print(\"#title=\" + title.string)\n",
    "print(\"#body=\" + body.string)\n",
    "\n",
    "# \n",
    "print(\"type of \\\"title\\\": \" + str(type(title)))"
   ]
  },
  {
   "cell_type": "markdown",
   "metadata": {},
   "source": [
    "### 複数の要素を取得する - `find_all()`メソッド"
   ]
  },
  {
   "cell_type": "markdown",
   "metadata": {},
   "source": [
    "複数のタグを一気に取得するために、`find_all()`メソッドを利用する。  \n",
    "`<a>`タグを取得するプログラムを以下に示す。"
   ]
  },
  {
   "cell_type": "code",
   "execution_count": 10,
   "metadata": {
    "collapsed": false
   },
   "outputs": [
    {
     "name": "stdout",
     "output_type": "stream",
     "text": [
      "uta > http://uta.pw\n",
      "oto > http://oto.chu.jp\n"
     ]
    }
   ],
   "source": [
    "from bs4 import BeautifulSoup\n",
    "\n",
    "html = \"\"\"\n",
    "<html><body>\n",
    "  <ul>\n",
    "    <li><a href=\"http://uta.pw\">uta</a></li>\n",
    "    <li><a href=\"http://oto.chu.jp\">oto</a></li>\n",
    "  </ul>\n",
    "</body></html>\n",
    "\"\"\"\n",
    "\n",
    "# HTMLを解析する\n",
    "soup = BeautifulSoup(html, 'html.parser')\n",
    "\n",
    "# find_all()メソッドで全ての<a>タグを取り出す\n",
    "links = soup.find_all(\"a\")\n",
    "\n",
    "# リンク一覧を表示\n",
    "for a in links:\n",
    "    text = a.string\n",
    "    href = a.attrs['href']\n",
    "    print(text, \">\", href)"
   ]
  },
  {
   "cell_type": "markdown",
   "metadata": {},
   "source": [
    "### DOM要素の属性について"
   ]
  },
  {
   "cell_type": "markdown",
   "metadata": {},
   "source": [
    "DOM(Document Object Model)とは、XMLやHTMLの各要素にアクセスする仕組みのことである。  \n",
    "そして、DOM要素の属性とは、タグ名の後ろにある各属性のことである。  \n",
    "例えば、`<a>`タグにおける`href`などのことである。"
   ]
  },
  {
   "cell_type": "markdown",
   "metadata": {},
   "source": [
    "**下記に、実際にDOM要素の属性を取得する手順を示す。**"
   ]
  },
  {
   "cell_type": "code",
   "execution_count": 11,
   "metadata": {
    "collapsed": false
   },
   "outputs": [
    {
     "data": {
      "text/plain": [
       "'<p>\\n <a href=\"a.html\">\\n  test\\n </a>\\n</p>'"
      ]
     },
     "execution_count": 11,
     "metadata": {},
     "output_type": "execute_result"
    }
   ],
   "source": [
    "from bs4 import BeautifulSoup\n",
    "soup = BeautifulSoup(\n",
    "                \"<p><a href='a.html'>test</a></p>\",\n",
    "                \"html.parser\")\n",
    "\n",
    "# 解析が正しく出来ているか確認する\n",
    "soup.prettify()"
   ]
  },
  {
   "cell_type": "code",
   "execution_count": 12,
   "metadata": {
    "collapsed": false
   },
   "outputs": [
    {
     "data": {
      "text/plain": [
       "dict"
      ]
     },
     "execution_count": 12,
     "metadata": {},
     "output_type": "execute_result"
    }
   ],
   "source": [
    "# <a>タグを変数aに代入する\n",
    "a = soup.p.a\n",
    "\n",
    "# attrsプロパティの型を確認する\n",
    "type(a.attrs)"
   ]
  },
  {
   "cell_type": "code",
   "execution_count": 13,
   "metadata": {
    "collapsed": false
   },
   "outputs": [
    {
     "data": {
      "text/plain": [
       "True"
      ]
     },
     "execution_count": 13,
     "metadata": {},
     "output_type": "execute_result"
    }
   ],
   "source": [
    "# href属性があるか確認する\n",
    "'href' in a.attrs"
   ]
  },
  {
   "cell_type": "code",
   "execution_count": 14,
   "metadata": {
    "collapsed": false
   },
   "outputs": [
    {
     "data": {
      "text/plain": [
       "'a.html'"
      ]
     },
     "execution_count": 14,
     "metadata": {},
     "output_type": "execute_result"
    }
   ],
   "source": [
    "# href属性の値を確認\n",
    "a['href']"
   ]
  },
  {
   "cell_type": "markdown",
   "metadata": {},
   "source": [
    "### `urlopen()`と`BeautifulSoup()`の組み合わせ"
   ]
  },
  {
   "cell_type": "markdown",
   "metadata": {},
   "source": [
    "`BeautifulSoup()`への引数には、`open()`関数や`urllib.request.urlopen()`関数の戻り値を指定することも出来る。"
   ]
  },
  {
   "cell_type": "code",
   "execution_count": 15,
   "metadata": {
    "collapsed": false
   },
   "outputs": [
    {
     "name": "stdout",
     "output_type": "stream",
     "text": [
      "type of \"res\": <class 'http.client.HTTPResponse'>\n",
      "東京都 渋谷区 宇田川町\n"
     ]
    }
   ],
   "source": [
    "from bs4 import BeautifulSoup\n",
    "import urllib.request as req\n",
    "\n",
    "# 指定した郵便番号の情報を取得するAPIのURL\n",
    "url = \"http://api.aoikujira.com/zip/xml/1500042\"\n",
    "\n",
    "# urlopen()でデータを取得する\n",
    "res = req.urlopen(url)\n",
    "\n",
    "print(\"type of \\\"res\\\": \" + str(type(res)))\n",
    "\n",
    "# BeautifulSoupで解析する\n",
    "soup = BeautifulSoup(res, \"html.parser\")\n",
    "\n",
    "# 任意のデータを抽出する\n",
    "ken = soup.find(\"ken\",).string\n",
    "shi = soup.find(\"shi\",).string\n",
    "cho = soup.find(\"cho\",).string\n",
    "print(ken, shi, cho)"
   ]
  },
  {
   "cell_type": "markdown",
   "metadata": {},
   "source": [
    "### CSSセレクタを指定して、任意の要素を抽出する"
   ]
  },
  {
   "cell_type": "markdown",
   "metadata": {},
   "source": [
    "`BeautifulSoup`では、JavaScriptのライブラリ\"jQuery\"のように、CSSのセレクタを指定して、任意の要素を抽出することもできる。"
   ]
  },
  {
   "cell_type": "markdown",
   "metadata": {},
   "source": [
    "|メソッド|解説|\n",
    "|:----|:----|\n",
    "|`soup.select_one(セレクタ)`|CSSセレクタで要素を1つ取り出す|\n",
    "|`soup.select(セレクタ)`|CSSセレクタで複数の要素を取り出し、リスト型で返す|"
   ]
  },
  {
   "cell_type": "markdown",
   "metadata": {},
   "source": [
    "これらのメソッドの使用例を下記に示す。"
   ]
  },
  {
   "cell_type": "code",
   "execution_count": 16,
   "metadata": {
    "collapsed": false
   },
   "outputs": [
    {
     "name": "stdout",
     "output_type": "stream",
     "text": [
      "h1 = トルストイの名言\n",
      "li = 汝の心に教えよ、心に学ぶな\n",
      "li = 謙虚な人はだれからも好かれる。\n",
      "li = 強い人々は、いつも気取らない。\n"
     ]
    }
   ],
   "source": [
    "from bs4 import BeautifulSoup\n",
    "\n",
    "# 解析対象となるHTML\n",
    "html = \"\"\"\n",
    "<html><body>\n",
    "<div id=\"meigen\">\n",
    "  <h1>トルストイの名言</h1>\n",
    "  <ul class=\"items\">\n",
    "    <li>汝の心に教えよ、心に学ぶな</li>\n",
    "    <li>謙虚な人はだれからも好かれる。</li>\n",
    "    <li>強い人々は、いつも気取らない。</li>\n",
    "  </ul>\n",
    "</div>\n",
    "</body></html>\n",
    "\"\"\"\n",
    "\n",
    "# HTMLを解析する\n",
    "soup = BeautifulSoup(html, 'html.parser')\n",
    "\n",
    "# 必要な部分をCSSqueryで取り出す\n",
    "h1 = soup.select_one(\"div#meigen > h1\").string\n",
    "print(\"h1 =\", h1)\n",
    "\n",
    "# リスト部分を取得する\n",
    "li_list = soup.select(\"div#meigen > ul.items > li\")\n",
    "for li in li_list:\n",
    "    print(\"li =\", li.string)"
   ]
  },
  {
   "cell_type": "markdown",
   "metadata": {},
   "source": [
    "## Yahoo!ファイナンスの為替情報を取得する"
   ]
  },
  {
   "cell_type": "markdown",
   "metadata": {},
   "source": [
    "実際のWebサイトを例に、スクレイピングを実践する。  \n",
    "ここでは、「Yahoo!ファイナンス」から米ドル/円の為替情報を取得する。  \n",
    "\n",
    "アメリカ ドル/円 外国為替 Yahoo!ファイナンス\n",
    "`http://stocks.finance.yahoo.co.jp/stocks/detail/?code=usdjpy`"
   ]
  },
  {
   "cell_type": "code",
   "execution_count": 17,
   "metadata": {
    "collapsed": false
   },
   "outputs": [
    {
     "name": "stdout",
     "output_type": "stream",
     "text": [
      "usd/jpy= 112.220000\n"
     ]
    }
   ],
   "source": [
    "from bs4 import BeautifulSoup\n",
    "import urllib.request as req\n",
    "\n",
    "# HTMLを取得\n",
    "url = \"http://stocks.finance.yahoo.co.jp/stocks/detail/?code=usdjpy\"\n",
    "res = req.urlopen(url)\n",
    "\n",
    "# HTMLを解析\n",
    "soup = BeautifulSoup(res, \"html.parser\")\n",
    "\n",
    "# 「<td class=\"stoksPrice\">110.840000</td>」部分から文字列を取得する\n",
    "price = soup.select_one(\".stoksPrice\").string\n",
    "print(\"usd/jpy=\", price)"
   ]
  },
  {
   "cell_type": "markdown",
   "metadata": {},
   "source": [
    "クジラWeb APIを使って為替情報を取得する。"
   ]
  },
  {
   "cell_type": "code",
   "execution_count": 18,
   "metadata": {
    "collapsed": false
   },
   "outputs": [
    {
     "name": "stdout",
     "output_type": "stream",
     "text": [
      "usd/jpy= 112.02083\n"
     ]
    }
   ],
   "source": [
    "from bs4 import BeautifulSoup\n",
    "import urllib.request as req\n",
    "\n",
    "# 為替情報XMLを取得する\n",
    "url = \"http://api.aoikujira.com/kawase/xml/usd\"\n",
    "res = req.urlopen(url)\n",
    "\n",
    "# HTMLを解析する\n",
    "soup = BeautifulSoup(res, \"html.parser\")\n",
    "\n",
    "# 任意のデータを抽出する\n",
    "jpy = soup.select_one(\"jpy\").string\n",
    "print(\"usd/jpy=\", jpy)"
   ]
  },
  {
   "cell_type": "markdown",
   "metadata": {},
   "source": [
    "# 1.3 CSSセレクタについて"
   ]
  },
  {
   "cell_type": "markdown",
   "metadata": {},
   "source": [
    "### 青空文庫で公開されている夏目漱石の作品一覧を得る"
   ]
  },
  {
   "cell_type": "markdown",
   "metadata": {},
   "source": [
    "Google Chromeのデベロッパーツールを使用して、青空文庫の芥川龍之介の作品一覧を構成するCSSセレクタを調べてみる。  \n",
    "htmlの欄から目当ての要素を右クリックして、Copy -> Copy selectorを洗濯すると、その要素のCSSセレクタをコピーできる。  \n",
    "[作家別作品リスト：芥川 竜之介](http://www.aozora.gr.jp/index_pages/person879.html)  \n",
    "**「愛読書の印象」のCSSセレクタ** body > body > ol:nth-child(8) > li:nth-child(1)"
   ]
  },
  {
   "cell_type": "code",
   "execution_count": 19,
   "metadata": {
    "collapsed": false,
    "scrolled": true
   },
   "outputs": [
    {
     "name": "stdout",
     "output_type": "stream",
     "text": [
      "<bound method Tag.decode_contents of <html lang=\"ja\">\n",
      "<head>\n",
      "<meta content=\"text/html;charset=utf-8\" http-equiv=\"Content-Type\">\n",
      "<meta content=\"text/css\" http-equiv=\"Content-Style-Type\">\n",
      "<title>作家別作品リスト：芥川 竜之介</title>\n",
      "<style type=\"text/css\">\n",
      "<!--\n",
      "body{\n",
      "    margin-left: 10%;\n",
      "    margin-right: 10%;\n",
      "    margin-bottom: 5%;\n",
      "    line-height: 150%;\n",
      "}\n",
      "a:hover{\n",
      "    color: white;\n",
      "    background-color: #0000ff;\n",
      "}\n",
      "h1{\n",
      "    color: black;\n",
      "    background-color: #ffffcc;\n",
      "    padding: 10pt;\n",
      "    border-color: black;\n",
      "    border-width: 1pt 0 1pt 0;\n",
      "    border-style: solid none solid none;\n",
      "    font-size: 150%;\n",
      "}\n",
      "h2{\n",
      "    color: black;\n",
      "    background-color: #d3d3d3;\n",
      "    padding: 5pt;\n",
      "    border-color: black;\n",
      "    border-width: 1pt 0 1pt 0;\n",
      "    border-style: solid none solid none;\n",
      "    text-indent: 1em;\n",
      "}\n",
      "table{\n",
      "    margin-left: 1em;\n",
      "    padding: 0.5em 0em 0.5em 1em;\n",
      "}\n",
      "table.download{\n",
      "    color: black;\n",
      "    margin-left: 0;\n",
      "    padding: 0;\n",
      "}\n",
      "th.download{\n",
      "    font-weight: bold;\n",
      "    background-color: black;\n",
      "    color: white;\n",
      "}\n",
      "td{\n",
      "    line-height:150%;\n",
      "}\n",
      "td.header{\n",
      "    vertical-align: top;\n",
      "    font-weight: bold;\n",
      "    width: 8em;\n",
      "    color: #a52a2a;\n",
      "}\n",
      "ol{\n",
      "    padding: 0.5em 0em 0.5em 2em;\n",
      "    margin-left: 2em;\n",
      "    line-height: 150%;\n",
      "}\n",
      "div.copyright{\n",
      "    background-color: white;\n",
      "    margin: 0.5em 0em 0.5em 2em;\n",
      "}\n",
      "span.current{\n",
      "    font-weight: bold;\n",
      "    color: red;\n",
      "}\n",
      "-->\n",
      "</style>\n",
      "</meta></meta></head>\n",
      "<body alink=\"#ff0000\" bgcolor=\"#f0f8ff\" link=\"#0000ff\" text=\"#000000\" vlink=\"#00008B\">\n",
      "<a name=\"top\"> </a>\n",
      "<div align=\"right\">●<a href=\"../index.html\">トップ</a>　●<a href=\"index_top.html\">インデックス</a>／<a href=\"index_all.html\">全</a>　●作家リスト：<a href=\"person_a.html#sec1\">公開</a>／<a href=\"person_inp_a.html#sec1\">作業</a>／<a href=\"person_all_a.html#sec1\">全</a>　●<span class=\"current\">作家別作品リスト</span></div>\n",
      "<div align=\"center\"><h1>作家別作品リスト：No.879</h1></div>\n",
      "<table summary=\"作家データ\">\n",
      "<tr><td class=\"header\">作家名：</td><td><font size=\"+2\">芥川 竜之介</font></td></tr>\n",
      "<tr><td class=\"header\">作家名読み：</td><td>あくたがわ りゅうのすけ</td></tr>\n",
      "<tr><td class=\"header\">ローマ字表記：</td><td>Akutagawa, Ryunosuke</td></tr>\n",
      "<tr><td class=\"header\">生年：</td><td>1892-03-01</td></tr>\n",
      "<tr><td class=\"header\">没年：</td><td>1927-07-24</td></tr>\n",
      "<tr><td class=\"header\">人物について：</td><td>東大在学中に同人雑誌「新思潮」に発表した「鼻」を漱石が激賞し、文壇で活躍するようになる。王朝もの、近世初期のキリシタン文学、江戸時代の人物・事件、明治の文明開化期など、さまざまな時代の歴史的文献に題材をとり、スタイルや文体を使い分けたたくさんの短編小説を書いた。体力の衰えと「ぼんやりした不安」から自殺。その死は大正時代文学の終焉と重なっている。<br><a href=\"http://ja.wikipedia.org/\" target=\"_blank\"><img align=\"middle\" alt=\"wikipediaアイコン\" border=\"0\" height=\"32\" src=\"../images/wikipedia_logo_rounded.png\" width=\"110\"/></a>「<a href=\"http://ja.wikipedia.org/wiki/%E8%8A%A5%E5%B7%9D%E7%AB%9C%E4%B9%8B%E4%BB%8B\" target=\"_blank\">芥川龍之介</a>」<br/></br></td></tr>\n",
      "</table>\n",
      "<hr>\n",
      "<div align=\"right\">\n",
      "［<a href=\"#sakuhin_list_1\">公開中の作品</a>｜<a href=\"#sakuhin_list_2\">作業中の作品</a>］\n",
      "</div>\n",
      "<h2><a name=\"sakuhin_list_1\">公開中の作品</a></h2>\n",
      "<ol>\n",
      "<li><a href=\"../cards/000879/card4872.html\">愛読書の印象</a>　（新字旧仮名、作品ID：4872）　</li>\n",
      "<li><a href=\"../cards/000879/card16.html\">秋</a>　（新字旧仮名、作品ID：16）　</li>\n",
      "<li><a href=\"../cards/000879/card178.html\">芥川竜之介歌集</a>　（新字旧仮名、作品ID：178）　</li>\n",
      "<li><a href=\"../cards/000879/card43014.html\">アグニの神</a>　（新字新仮名、作品ID：43014）　</li>\n",
      "<li><a href=\"../cards/000879/card15.html\">アグニの神</a>　（新字旧仮名、作品ID：15）　</li>\n",
      "<li><a href=\"../cards/000879/card3804.html\">悪魔</a>　（新字旧仮名、作品ID：3804）　</li>\n",
      "<li><a href=\"../cards/000879/card21.html\">浅草公園</a>　或シナリオ（新字新仮名、作品ID：21）　</li>\n",
      "<li><a href=\"../cards/000879/card43361.html\">兄貴のような心持</a>　――菊池寛氏の印象――（新字新仮名、作品ID：43361）　</li>\n",
      "<li><a href=\"../cards/000879/card17.html\">あの頃の自分の事</a>　（新字旧仮名、作品ID：17）　</li>\n",
      "<li><a href=\"../cards/000879/card14.html\">あばばばば</a>　（新字旧仮名、作品ID：14）　</li>\n",
      "<li><a href=\"../cards/000879/card1138.html\">鴉片</a>　（新字旧仮名、作品ID：1138）　</li>\n",
      "<li><a href=\"../cards/000879/card19.html\">或阿呆の一生</a>　（新字旧仮名、作品ID：19）　</li>\n",
      "<li><a href=\"../cards/000879/card73.html\">或敵打の話</a>　（新字新仮名、作品ID：73）　</li>\n",
      "<li><a href=\"../cards/000879/card20.html\">或旧友へ送る手記</a>　（新字旧仮名、作品ID：20）　</li>\n",
      "<li><a href=\"../cards/000879/card3827.html\">或社会主義者</a>　（新字旧仮名、作品ID：3827）　</li>\n",
      "<li><a href=\"../cards/000879/card122.html\">或日の大石内蔵助</a>　（新字新仮名、作品ID：122）　</li>\n",
      "<li><a href=\"../cards/000879/card129.html\">或恋愛小説</a>　（新字新仮名、作品ID：129）　</li>\n",
      "<li><a href=\"../cards/000879/card18.html\">闇中問答</a>　（新字旧仮名、作品ID：18）　</li>\n",
      "<li><a href=\"../cards/000879/card3767.html\">案頭の書</a>　（新字旧仮名、作品ID：3767）　</li>\n",
      "<li><a href=\"../cards/000879/card43362.html\">飯田蛇笏</a>　（新字新仮名、作品ID：43362）　</li>\n",
      "<li><a href=\"../cards/000879/card16034.html\">遺書</a>　（新字旧仮名、作品ID：16034）　</li>\n",
      "<li><a href=\"../cards/000879/card3750.html\">イズムと云ふ語の意味次第</a>　（新字旧仮名、作品ID：3750）　</li>\n",
      "<li><a href=\"../cards/000879/card3748.html\">一番気乗のする時</a>　（新字旧仮名、作品ID：3748）　</li>\n",
      "<li><a href=\"../cards/000879/card57.html\">一夕話</a>　（新字新仮名、作品ID：57）　</li>\n",
      "<li><a href=\"../cards/000879/card3761.html\">伊東から</a>　（新字旧仮名、作品ID：3761）　</li>\n",
      "<li><a href=\"../cards/000879/card58.html\">糸女覚え書</a>　（新字旧仮名、作品ID：58）　</li>\n",
      "<li><a href=\"../cards/000879/card43363.html\">犬養君に就いて</a>　（新字新仮名、作品ID：43363）　</li>\n",
      "<li><a href=\"../cards/000879/card56.html\">犬と笛</a>　（新字新仮名、作品ID：56）　</li>\n",
      "<li><a href=\"../cards/000879/card55.html\">芋粥</a>　（新字旧仮名、作品ID：55）　</li>\n",
      "<li><a href=\"../cards/000879/card4274.html\">岩野泡鳴氏</a>　（新字旧仮名、作品ID：4274）　</li>\n",
      "<li><a href=\"../cards/000879/card177.html\">魚河岸</a>　（新字新仮名、作品ID：177）　</li>\n",
      "<li><a href=\"../cards/000879/card4312.html\">内田百間氏</a>　（新字旧仮名、作品ID：4312）　</li>\n",
      "<li><a href=\"../cards/000879/card51864.html\">産屋</a>　萩原朔太郎君に献ず（旧字旧仮名、作品ID：51864）　</li>\n",
      "<li><a href=\"../cards/000879/card174.html\">馬の脚</a>　（新字新仮名、作品ID：174）　</li>\n",
      "<li><a href=\"../cards/000879/card175.html\">海のほとり</a>　（新字新仮名、作品ID：175）　</li>\n",
      "<li><a href=\"../cards/000879/card3823.html\">囈語</a>　（新字旧仮名、作品ID：3823）　</li>\n",
      "<li><a href=\"../cards/000879/card176.html\">運</a>　（新字新仮名、作品ID：176）　</li>\n",
      "<li><a href=\"../cards/000879/card3751.html\">永久に不愉快な二重生活</a>　（新字旧仮名、作品ID：3751）　</li>\n",
      "<li><a href=\"../cards/000879/card35.html\">英雄の器</a>　（新字新仮名、作品ID：35）　</li>\n",
      "<li><a href=\"../cards/000879/card43364.html\">江口渙氏の事</a>　（新字新仮名、作品ID：43364）　</li>\n",
      "<li><a href=\"../cards/000879/card3825.html\">槐</a>　（新字旧仮名、作品ID：3825）　</li>\n",
      "<li><a href=\"../cards/000879/card118.html\">老いたる素戔嗚尊</a>　（新字旧仮名、作品ID：118）　</li>\n",
      "<li><a href=\"../cards/000879/card117.html\">往生絵巻</a>　（新字旧仮名、作品ID：117）　</li>\n",
      "<li><a href=\"../cards/000879/card3763.html\">鸚鵡</a>　――大震覚え書の一つ――（新字旧仮名、作品ID：3763）　</li>\n",
      "<li><a href=\"../cards/000879/card123.html\">大川の水</a>　（新字新仮名、作品ID：123）　</li>\n",
      "<li><a href=\"../cards/000879/card49328.html\">大久保湖州</a>　（新字旧仮名、作品ID：49328）　</li>\n",
      "<li><a href=\"../cards/000879/card3824.html\">Ｏ君の新秋</a>　（新字旧仮名、作品ID：3824）　</li>\n",
      "<li><a href=\"../cards/000879/card115.html\">尾形了斎覚え書</a>　（新字旧仮名、作品ID：115）　</li>\n",
      "<li><a href=\"../cards/000879/card116.html\">おぎん</a>　（新字新仮名、作品ID：116）　</li>\n",
      "<li><a href=\"../cards/000879/card119.html\">お時儀</a>　（新字新仮名、作品ID：119）　</li>\n",
      "<li><a href=\"../cards/000879/card125.html\">おしの</a>　（新字新仮名、作品ID：125）　</li>\n",
      "<li><a href=\"../cards/000879/card126.html\">お富の貞操</a>　（新字旧仮名、作品ID：126）　</li>\n",
      "<li><a href=\"../cards/000879/card3826.html\">鬼ごつこ</a>　（新字旧仮名、作品ID：3826）　</li>\n",
      "<li><a href=\"../cards/000879/card124.html\">お律と子等と</a>　（新字新仮名、作品ID：124）　</li>\n",
      "<li><a href=\"../cards/000879/card121.html\">温泉だより</a>　（新字新仮名、作品ID：121）　</li>\n",
      "<li><a href=\"../cards/000879/card120.html\">女</a>　（新字新仮名、作品ID：120）　</li>\n",
      "<li><a href=\"../cards/000879/card67.html\">開化の良人</a>　（新字新仮名、作品ID：67）　</li>\n",
      "<li><a href=\"../cards/000879/card66.html\">開化の殺人</a>　（新字旧仮名、作品ID：66）　</li>\n",
      "<li><a href=\"../cards/000879/card65.html\">貝殻</a>　（新字旧仮名、作品ID：65）　</li>\n",
      "<li><a href=\"../cards/000879/card3764.html\">解嘲</a>　（新字旧仮名、作品ID：3764）　</li>\n",
      "<li><a href=\"../cards/000879/card3800.html\">蛙</a>　（新字旧仮名、作品ID：3800）　</li>\n",
      "<li><a href=\"../cards/000879/card43365.html\">格さんと食慾</a>　――最近の宇野浩二氏――（新字新仮名、作品ID：43365）　</li>\n",
      "<li><a href=\"../cards/000879/card64.html\">影</a>　（新字新仮名、作品ID：64）　</li>\n",
      "<li><a href=\"../cards/000879/card74.html\">片恋</a>　（新字新仮名、作品ID：74）　</li>\n",
      "<li><a href=\"../cards/000879/card3814.html\">かちかち山</a>　（新字旧仮名、作品ID：3814）　</li>\n",
      "<li><a href=\"../cards/000879/card3772.html\">学校友だち</a>　（新字旧仮名、作品ID：3772）　</li>\n",
      "<li><a href=\"../cards/000879/card69.html\">河童</a>　（新字新仮名、作品ID：69）　</li>\n",
      "<li><a href=\"../cards/000879/card45761.html\">河童</a>　（新字旧仮名、作品ID：45761）　</li>\n",
      "<li><a href=\"../cards/000879/card3802.html\">南瓜</a>　（新字旧仮名、作品ID：3802）　</li>\n",
      "<li><a href=\"../cards/000879/card68.html\">神神の微笑</a>　（新字新仮名、作品ID：68）　</li>\n",
      "<li><a href=\"../cards/000879/card3766.html\">「仮面」の人々</a>　（新字旧仮名、作品ID：3766）　</li>\n",
      "<li><a href=\"../cards/000879/card43366.html\">鴨猟</a>　（新字新仮名、作品ID：43366）　</li>\n",
      "<li><a href=\"../cards/000879/card2323.html\">軽井沢で</a>　（新字旧仮名、作品ID：2323）　</li>\n",
      "<li><a href=\"../cards/000879/card29.html\">カルメン</a>　（新字新仮名、作品ID：29）　</li>\n",
      "<li><a href=\"../cards/000879/card70.html\">彼</a>　（新字新仮名、作品ID：70）　</li>\n",
      "<li><a href=\"../cards/000879/card71.html\">彼　第二</a>　（新字新仮名、作品ID：71）　</li>\n",
      "<li><a href=\"../cards/000879/card72.html\">枯野抄</a>　（新字旧仮名、作品ID：72）　</li>\n",
      "<li><a href=\"../cards/000879/card43367.html\">彼の長所十八</a>　――南部修太郎氏の印象――（新字新仮名、作品ID：43367）　</li>\n",
      "<li><a href=\"../cards/000879/card3809.html\">寒山拾得</a>　（新字旧仮名、作品ID：3809）　</li>\n",
      "<li><a href=\"../cards/000879/card3747.html\">鑑定</a>　（新字旧仮名、作品ID：3747）　</li>\n",
      "<li><a href=\"../cards/000879/card77.html\">奇怪な再会</a>　（新字新仮名、作品ID：77）　</li>\n",
      "<li><a href=\"../cards/000879/card2366.html\">機関車を見ながら</a>　（新字旧仮名、作品ID：2366）　</li>\n",
      "<li><a href=\"../cards/000879/card76.html\">奇遇</a>　（新字新仮名、作品ID：76）　</li>\n",
      "<li><a href=\"../cards/000879/card43368.html\">「菊池寛全集」の序</a>　（新字新仮名、作品ID：43368）　</li>\n",
      "<li><a href=\"../cards/000879/card80.html\">煙管</a>　（新字新仮名、作品ID：80）　</li>\n",
      "<li><a href=\"../cards/000879/card81.html\">木曽義仲論</a>　（新字旧仮名、作品ID：81）　</li>\n",
      "<li><a href=\"../cards/000879/card1137.html\">着物</a>　（新字旧仮名、作品ID：1137）　</li>\n",
      "<li><a href=\"../cards/000879/card2327.html\">凶</a>　（新字旧仮名、作品ID：2327）　</li>\n",
      "<li><a href=\"../cards/000879/card93.html\">「鏡花全集」目録開口</a>　（新字旧仮名、作品ID：93）　</li>\n",
      "<li><a href=\"../cards/000879/card3815.html\">教訓談</a>　（新字旧仮名、作品ID：3815）　</li>\n",
      "<li><a href=\"../cards/000879/card3803.html\">京都日記</a>　（新字旧仮名、作品ID：3803）　</li>\n",
      "<li><a href=\"../cards/000879/card79.html\">きりしとほろ上人伝</a>　（新字旧仮名、作品ID：79）　</li>\n",
      "<li><a href=\"../cards/000879/card39.html\">疑惑</a>　（新字新仮名、作品ID：39）　</li>\n",
      "<li><a href=\"../cards/000879/card78.html\">金将軍</a>　（新字新仮名、作品ID：78）　</li>\n",
      "<li><a href=\"../cards/000879/card2328.html\">鵠沼雑記</a>　（新字旧仮名、作品ID：2328）　</li>\n",
      "<li><a href=\"../cards/000879/card3784.html\">孔雀</a>　（新字旧仮名、作品ID：3784）　</li>\n",
      "<li><a href=\"../cards/000879/card91.html\">首が落ちた話</a>　（新字新仮名、作品ID：91）　</li>\n",
      "<li><a href=\"../cards/000879/card43369.html\">久保田万太郎氏</a>　（新字新仮名、作品ID：43369）　</li>\n",
      "<li><a href=\"../cards/000879/card43370.html\">久米正雄</a>　――傚久米正雄文体――（新字新仮名、作品ID：43370）　</li>\n",
      "<li><a href=\"../cards/000879/card43371.html\">久米正雄氏の事</a>　（新字新仮名、作品ID：43371）　</li>\n",
      "<li><a href=\"../cards/000879/card92.html\">蜘蛛の糸</a>　（新字新仮名、作品ID：92）　</li>\n",
      "<li><a href=\"../cards/001086/card4311.html\">クラリモンド</a>　（新字旧仮名、作品ID：4311）　 　　 →<a href=\"person1086.html\">ゴーチェ テオフィル</a>(著者) </li>\n",
      "<li><a href=\"../cards/000879/card51865.html\">軍艦金剛航海記</a>　（旧字旧仮名、作品ID：51865）　</li>\n",
      "<li><a href=\"../cards/000879/card4273.html\">芸術その他</a>　（新字旧仮名、作品ID：4273）　</li>\n",
      "<li><a href=\"../cards/000879/card38.html\">戯作三昧</a>　（新字新仮名、作品ID：38）　</li>\n",
      "<li><a href=\"../cards/000879/card37.html\">戯作三昧</a>　（新字旧仮名、作品ID：37）　</li>\n",
      "<li><a href=\"../cards/000879/card75.html\">袈裟と盛遠</a>　（新字新仮名、作品ID：75）　</li>\n",
      "<li><a href=\"../cards/000879/card1131.html\">結婚難並びに恋愛難</a>　（新字旧仮名、作品ID：1131）　</li>\n",
      "<li><a href=\"../cards/001085/card1128.html\">「ケルトの薄明」より</a>　（新字旧仮名、作品ID：1128）　 　　 →<a href=\"person1085.html\">イエイツ ウィリアム・バトラー</a>(著者) </li>\n",
      "<li><a href=\"../cards/000879/card36.html\">玄鶴山房</a>　（新字新仮名、作品ID：36）　</li>\n",
      "<li><a href=\"../cards/000879/card3797.html\">講演軍記</a>　（新字旧仮名、作品ID：3797）　</li>\n",
      "<li><a href=\"../cards/000879/card43375.html\">剛才人と柔才人と</a>　（新字新仮名、作品ID：43375）　</li>\n",
      "<li><a href=\"../cards/000879/card90.html\">好色</a>　（新字旧仮名、作品ID：90）　</li>\n",
      "<li><a href=\"../cards/000879/card33202.html\">後世</a>　（新字旧仮名、作品ID：33202）　</li>\n",
      "<li><a href=\"../cards/000879/card89.html\">校正後に</a>　（新字新仮名、作品ID：89）　</li>\n",
      "<li><a href=\"../cards/000879/card43376.html\">合理的、同時に多量の人間味</a>　――相互印象・菊池寛氏――（新字新仮名、作品ID：43376）　</li>\n",
      "<li><a href=\"../cards/000879/card88.html\">黄粱夢</a>　（新字新仮名、作品ID：88）　</li>\n",
      "<li><a href=\"../cards/000879/card85.html\">黒衣聖母</a>　（新字新仮名、作品ID：85）　</li>\n",
      "<li><a href=\"../cards/000879/card43373.html\">小杉未醒氏</a>　（新字新仮名、作品ID：43373）　</li>\n",
      "<li><a href=\"../cards/000879/card82.html\">古千屋</a>　（新字新仮名、作品ID：82）　</li>\n",
      "<li><a href=\"../cards/000879/card3738.html\">骨董羹</a>　―寿陵余子の仮名のもとに筆を執れる戯文―（新字旧仮名、作品ID：3738）　</li>\n",
      "<li><a href=\"../cards/000879/card83.html\">孤独地獄</a>　（新字旧仮名、作品ID：83）　</li>\n",
      "<li><a href=\"../cards/000879/card84.html\">子供の病気</a>　一游亭に（新字新仮名、作品ID：84）　</li>\n",
      "<li><a href=\"../cards/000879/card87.html\">湖南の扇</a>　（新字新仮名、作品ID：87）　</li>\n",
      "<li><a href=\"../cards/000879/card43374.html\">近藤浩一路氏</a>　（新字新仮名、作品ID：43374）　</li>\n",
      "<li><a href=\"../cards/000879/card1134.html\">金春会の「隅田川」</a>　（新字旧仮名、作品ID：1134）　</li>\n",
      "<li><a href=\"../cards/000879/card136.html\">西郷隆盛</a>　（新字新仮名、作品ID：136）　</li>\n",
      "<li><a href=\"../cards/000879/card3779.html\">才一巧亦不二</a>　（新字旧仮名、作品ID：3779）　</li>\n",
      "<li><a href=\"../cards/000879/card141.html\">西方の人</a>　（新字旧仮名、作品ID：141）　</li>\n",
      "<li><a href=\"../cards/000879/card3816.html\">鷺と鴛鴦</a>　（新字旧仮名、作品ID：3816）　</li>\n",
      "<li><a href=\"../cards/000879/card51214.html\">雑信一束</a>　（新字新仮名、作品ID：51214）　</li>\n",
      "<li><a href=\"../cards/000879/card3739.html\">雑筆</a>　（新字旧仮名、作品ID：3739）　</li>\n",
      "<li><a href=\"../cards/000879/card4277.html\">佐藤春夫氏</a>　（新字旧仮名、作品ID：4277）　</li>\n",
      "<li><a href=\"../cards/000879/card43377.html\">佐藤春夫氏の事</a>　（新字新仮名、作品ID：43377）　</li>\n",
      "<li><a href=\"../cards/000879/card185.html\">さまよえる猶太人</a>　（新字新仮名、作品ID：185）　</li>\n",
      "<li><a href=\"../cards/000879/card137.html\">寒さ</a>　（新字新仮名、作品ID：137）　</li>\n",
      "<li><a href=\"../cards/000879/card3820.html\">沙羅の花</a>　（新字旧仮名、作品ID：3820）　</li>\n",
      "<li><a href=\"../cards/000879/card139.html\">猿</a>　（新字旧仮名、作品ID：139）　</li>\n",
      "<li><a href=\"../cards/000879/card140.html\">猿蟹合戦</a>　（新字新仮名、作品ID：140）　</li>\n",
      "<li><a href=\"../cards/000879/card138.html\">三右衛門の罪</a>　（新字新仮名、作品ID：138）　</li>\n",
      "<li><a href=\"../cards/000879/card146.html\">死後</a>　（新字新仮名、作品ID：146）　</li>\n",
      "<li><a href=\"../cards/000879/card61.html\">地獄変</a>　（旧字旧仮名、作品ID：61）　</li>\n",
      "<li><a href=\"../cards/000879/card60.html\">地獄変</a>　（新字旧仮名、作品ID：60）　</li>\n",
      "<li><a href=\"../cards/000879/card3818.html\">詩集</a>　（新字旧仮名、作品ID：3818）　</li>\n",
      "<li><a href=\"../cards/000879/card13.html\">十本の針</a>　（新字新仮名、作品ID：13）　</li>\n",
      "<li><a href=\"../cards/000879/card3742.html\">支那の画</a>　（新字旧仮名、作品ID：3742）　</li>\n",
      "<li><a href=\"../cards/000879/card51212.html\">「支那游記」自序</a>　（新字新仮名、作品ID：51212）　</li>\n",
      "<li><a href=\"../cards/000879/card43380.html\">島木赤彦氏</a>　（新字新仮名、作品ID：43380）　</li>\n",
      "<li><a href=\"../cards/000879/card2326.html\">耳目記</a>　（新字旧仮名、作品ID：2326）　</li>\n",
      "<li><a href=\"../cards/000879/card1129.html\">霜夜</a>　（新字旧仮名、作品ID：1129）　</li>\n",
      "<li><a href=\"../cards/000879/card59.html\">邪宗門</a>　（新字新仮名、作品ID：59）　</li>\n",
      "<li><a href=\"../cards/000879/card51215.html\">上海游記</a>　（新字新仮名、作品ID：51215）　</li>\n",
      "<li><a href=\"../cards/000879/card62.html\">十円札</a>　（新字新仮名、作品ID：62）　</li>\n",
      "<li><a href=\"../cards/000879/card162.html\">秋山図</a>　（新字新仮名、作品ID：162）　</li>\n",
      "<li><a href=\"../cards/000879/card3769.html\">蒐書</a>　（新字旧仮名、作品ID：3769）　</li>\n",
      "<li><a href=\"../cards/000879/card43751.html\">侏儒の言葉</a>　（新字旧仮名、作品ID：43751）　</li>\n",
      "<li><a href=\"../cards/000879/card158.html\">侏儒の言葉</a>　（新字新仮名、作品ID：158）　</li>\n",
      "<li><a href=\"../cards/000879/card24451.html\">「侏儒の言葉」の序</a>　（旧字旧仮名、作品ID：24451）　</li>\n",
      "<li><a href=\"../cards/000879/card161.html\">酒虫</a>　（新字旧仮名、作品ID：161）　</li>\n",
      "<li><a href=\"../cards/000879/card160.html\">出帆</a>　（新字新仮名、作品ID：160）　</li>\n",
      "<li><a href=\"../cards/000879/card63.html\">じゅりあの・吉助</a>　（新字新仮名、作品ID：63）　</li>\n",
      "<li><a href=\"../cards/000879/card159.html\">俊寛</a>　（新字新仮名、作品ID：159）　</li>\n",
      "<li><a href=\"../cards/000879/card156.html\">将軍</a>　（新字新仮名、作品ID：156）　</li>\n",
      "<li><a href=\"../cards/000879/card3813.html\">商賈聖母</a>　（新字旧仮名、作品ID：3813）　</li>\n",
      "<li><a href=\"../cards/000879/card3801.html\">饒舌</a>　（新字旧仮名、作品ID：3801）　</li>\n",
      "<li><a href=\"../cards/000879/card4313.html\">小説作法十則</a>　（新字旧仮名、作品ID：4313）　</li>\n",
      "<li><a href=\"../cards/000879/card4278.html\">小説の戯曲化</a>　（新字旧仮名、作品ID：4278）　</li>\n",
      "<li><a href=\"../cards/000879/card3794.html\">小説の読者</a>　（新字旧仮名、作品ID：3794）　</li>\n",
      "<li><a href=\"../cards/000879/card155.html\">少年</a>　（新字新仮名、作品ID：155）　</li>\n",
      "<li><a href=\"../cards/000879/card3770.html\">娼婦美と冒険</a>　（新字旧仮名、作品ID：3770）　</li>\n",
      "<li><a href=\"../cards/000879/card3795.html\">食物として</a>　（新字旧仮名、作品ID：3795）　</li>\n",
      "<li><a href=\"../cards/000879/card148.html\">虱</a>　（新字旧仮名、作品ID：148）　</li>\n",
      "<li><a href=\"../cards/000879/card24452.html\">しるこ</a>　（旧字旧仮名、作品ID：24452）　</li>\n",
      "<li><a href=\"../cards/000879/card149.html\">白</a>　（新字新仮名、作品ID：149）　</li>\n",
      "<li><a href=\"../cards/000879/card147.html\">蜃気楼</a>　（新字新仮名、作品ID：147）　</li>\n",
      "<li><a href=\"../cards/000879/card4280.html\">新緑の庭</a>　（新字旧仮名、作品ID：4280）　</li>\n",
      "<li><a href=\"../cards/000879/card2322.html\">塵労</a>　（新字旧仮名、作品ID：2322）　</li>\n",
      "<li><a href=\"../cards/000879/card153.html\">素戔嗚尊</a>　（新字新仮名、作品ID：153）　</li>\n",
      "<li><a href=\"../cards/000879/card154.html\">捨児</a>　（新字新仮名、作品ID：154）　</li>\n",
      "<li><a href=\"../cards/000879/card142.html\">青年と死</a>　（新字新仮名、作品ID：142）　</li>\n",
      "<li><a href=\"../cards/000879/card3756.html\">西洋画のやうな日本画</a>　（新字旧仮名、作品ID：3756）　</li>\n",
      "<li><a href=\"../cards/000879/card2325.html\">仙人</a>　（新字旧仮名、作品ID：2325）　</li>\n",
      "<li><a href=\"../cards/000879/card144.html\">仙人</a>　（新字新仮名、作品ID：144）　</li>\n",
      "<li><a href=\"../cards/000879/card143.html\">仙人</a>　（新字新仮名、作品ID：143）　</li>\n",
      "<li><a href=\"../cards/000879/card150.html\">葬儀記</a>　（新字新仮名、作品ID：150）　</li>\n",
      "<li><a href=\"../cards/000879/card3799.html\">創作</a>　（新字旧仮名、作品ID：3799）　</li>\n",
      "<li><a href=\"../cards/000879/card152.html\">早春</a>　（新字新仮名、作品ID：152）　</li>\n",
      "<li><a href=\"../cards/000879/card151.html\">漱石山房の秋</a>　（新字旧仮名、作品ID：151）　</li>\n",
      "<li><a href=\"../cards/000879/card2321.html\">漱石山房の冬</a>　（新字旧仮名、作品ID：2321）　</li>\n",
      "<li><a href=\"../cards/000879/card4301.html\">装幀に就いての私の意見</a>　（新字旧仮名、作品ID：4301）　</li>\n",
      "<li><a href=\"../cards/000879/card191.html\">続西方の人</a>　（新字旧仮名、作品ID：191）　</li>\n",
      "<li><a href=\"../cards/000879/card3746.html\">続澄江堂雑記</a>　（新字旧仮名、作品ID：3746）　</li>\n",
      "<li><a href=\"../cards/000879/card189.html\">続芭蕉雑記</a>　（新字旧仮名、作品ID：189）　</li>\n",
      "<li><a href=\"../cards/000879/card190.html\">続文芸的な、余りに文芸的な</a>　（新字旧仮名、作品ID：190）　</li>\n",
      "<li><a href=\"../cards/000879/card3744.html\">続野人生計事</a>　（新字旧仮名、作品ID：3744）　</li>\n",
      "<li><a href=\"../cards/000879/card3793.html\">その頃の赤門生活</a>　（新字旧仮名、作品ID：3793）　</li>\n",
      "<li><a href=\"../cards/000879/card157.html\">素描三題</a>　（新字旧仮名、作品ID：157）　</li>\n",
      "<li><a href=\"../cards/000879/card3762.html\">大正十二年九月一日の大震に際して</a>　（新字旧仮名、作品ID：3762）　</li>\n",
      "<li><a href=\"../cards/000879/card32.html\">大導寺信輔の半生</a>　――或精神的風景画――（新字新仮名、作品ID：32）　</li>\n",
      "<li><a href=\"../cards/000879/card46672.html\">大導寺信輔の半生</a>　―或精神的風景画―（新字旧仮名、作品ID：46672）　</li>\n",
      "<li><a href=\"../cards/000879/card33.html\">第四の夫から</a>　（新字新仮名、作品ID：33）　</li>\n",
      "<li><a href=\"../cards/000879/card43382.html\">滝田哲太郎君</a>　（新字新仮名、作品ID：43382）　</li>\n",
      "<li><a href=\"../cards/000879/card43383.html\">滝田哲太郎氏</a>　（新字新仮名、作品ID：43383）　</li>\n",
      "<li><a href=\"../cards/000879/card1132.html\">竜村平蔵氏の芸術</a>　（新字旧仮名、作品ID：1132）　</li>\n",
      "<li><a href=\"../cards/000879/card4276.html\">谷崎潤一郎氏</a>　（新字旧仮名、作品ID：4276）　</li>\n",
      "<li><a href=\"../cards/000879/card164.html\">たね子の憂鬱</a>　（新字新仮名、作品ID：164）　</li>\n",
      "<li><a href=\"../cards/000879/card163.html\">煙草と悪魔</a>　（新字旧仮名、作品ID：163）　</li>\n",
      "<li><a href=\"../cards/000879/card3773.html\">田端人</a>　（新字旧仮名、作品ID：3773）　</li>\n",
      "<li><a href=\"../cards/000879/card2692.html\">田端日記</a>　（新字新仮名、作品ID：2692）　</li>\n",
      "<li><a href=\"../cards/000879/card3759.html\">近頃の幽霊</a>　（新字旧仮名、作品ID：3759）　</li>\n",
      "<li><a href=\"../cards/000879/card30.html\">父</a>　（新字新仮名、作品ID：30）　</li>\n",
      "<li><a href=\"../cards/000879/card173.html\">忠義</a>　（新字新仮名、作品ID：173）　</li>\n",
      "<li><a href=\"../cards/000879/card31.html\">偸盗</a>　（新字新仮名、作品ID：31）　</li>\n",
      "<li><a href=\"../cards/000879/card3745.html\">澄江堂雑記</a>　（新字旧仮名、作品ID：3745）　</li>\n",
      "<li><a href=\"../cards/000879/card51216.html\">長江游記</a>　（新字新仮名、作品ID：51216）　</li>\n",
      "<li><a href=\"../cards/000879/card172.html\">樗牛の事</a>　（新字新仮名、作品ID：172）　</li>\n",
      "<li><a href=\"../cards/000879/card1141.html\">追憶</a>　（新字新仮名、作品ID：1141）　</li>\n",
      "<li><a href=\"../cards/000879/card43385.html\">恒藤恭氏</a>　（新字新仮名、作品ID：43385）　</li>\n",
      "<li><a href=\"../cards/000879/card166.html\">手紙</a>　（新字新仮名、作品ID：166）　</li>\n",
      "<li><a href=\"../cards/000879/card43386.html\">出来上った人</a>　――室生犀星氏――（新字新仮名、作品ID：43386）　</li>\n",
      "<li><a href=\"../cards/000879/card34.html\">伝吉の敵打ち</a>　（新字新仮名、作品ID：34）　</li>\n",
      "<li><a href=\"../cards/000879/card167.html\">点鬼簿</a>　（新字新仮名、作品ID：167）　</li>\n",
      "<li><a href=\"../cards/000879/card3740.html\">点心</a>　（新字旧仮名、作品ID：3740）　</li>\n",
      "<li><a href=\"../cards/000879/card3807.html\">東京小品</a>　（新字旧仮名、作品ID：3807）　</li>\n",
      "<li><a href=\"../cards/000879/card45623.html\">東京に生れて</a>　（新字新仮名、作品ID：45623）　</li>\n",
      "<li><a href=\"../cards/000879/card3788.html\">東西問答</a>　（新字旧仮名、作品ID：3788）　</li>\n",
      "<li><a href=\"../cards/000879/card135.html\">道祖問答</a>　（新字新仮名、作品ID：135）　</li>\n",
      "<li><a href=\"../cards/000879/card3810.html\">動物園</a>　（新字旧仮名、作品ID：3810）　</li>\n",
      "<li><a href=\"../cards/000879/card2369.html\">東洋の秋</a>　（新字旧仮名、作品ID：2369）　</li>\n",
      "<li><a href=\"../cards/000879/card2324.html\">都会で</a>　（新字旧仮名、作品ID：2324）　</li>\n",
      "<li><a href=\"../cards/000879/card170.html\">杜子春</a>　（新字旧仮名、作品ID：170）　</li>\n",
      "<li><a href=\"../cards/000879/card43015.html\">杜子春</a>　（新字新仮名、作品ID：43015）　</li>\n",
      "<li><a href=\"../cards/000879/card43387.html\">豊島与志雄氏の事</a>　（新字新仮名、作品ID：43387）　</li>\n",
      "<li><a href=\"../cards/000879/card168.html\">虎の話</a>　（新字旧仮名、作品ID：168）　</li>\n",
      "<li><a href=\"../cards/000879/card43016.html\">トロッコ</a>　（新字新仮名、作品ID：43016）　</li>\n",
      "<li><a href=\"../cards/000879/card169.html\">トロツコ</a>　（新字旧仮名、作品ID：169）　</li>\n",
      "<li><a href=\"../cards/000879/card1140.html\">長崎</a>　（新字旧仮名、作品ID：1140）　</li>\n",
      "<li><a href=\"../cards/000879/card104.html\">長崎小品</a>　（新字旧仮名、作品ID：104）　</li>\n",
      "<li><a href=\"../cards/000879/card43388.html\">夏目先生と滝田さん</a>　（新字新仮名、作品ID：43388）　</li>\n",
      "<li><a href=\"../cards/000879/card105.html\">南京の基督</a>　（新字旧仮名、作品ID：105）　</li>\n",
      "<li><a href=\"../cards/000879/card145.html\">廿年後之戦争</a>　（新字旧仮名、作品ID：145）　</li>\n",
      "<li><a href=\"../cards/000879/card3778.html\">偽者二題</a>　（新字旧仮名、作品ID：3778）　</li>\n",
      "<li><a href=\"../cards/000879/card109.html\">尼提</a>　（新字新仮名、作品ID：109）　</li>\n",
      "<li><a href=\"../cards/000879/card110.html\">日光小品</a>　（新字新仮名、作品ID：110）　</li>\n",
      "<li><a href=\"../cards/000879/card3774.html\">日本小説の支那訳</a>　（新字旧仮名、作品ID：3774）　</li>\n",
      "<li><a href=\"../cards/000879/card3776.html\">日本の女</a>　（新字旧仮名、作品ID：3776）　</li>\n",
      "<li><a href=\"../cards/000879/card3753.html\">入社の辞</a>　（新字旧仮名、作品ID：3753）　</li>\n",
      "<li><a href=\"../cards/000879/card1031.html\">女仙</a>　（新字新仮名、作品ID：1031）　</li>\n",
      "<li><a href=\"../cards/000879/card114.html\">女体</a>　（新字新仮名、作品ID：114）　</li>\n",
      "<li><a href=\"../cards/000879/card111.html\">庭</a>　（新字旧仮名、作品ID：111）　</li>\n",
      "<li><a href=\"../cards/000879/card3808.html\">沼</a>　（新字旧仮名、作品ID：3808）　</li>\n",
      "<li><a href=\"../cards/000879/card113.html\">沼地</a>　（新字新仮名、作品ID：113）　</li>\n",
      "<li><a href=\"../cards/000879/card106.html\">葱</a>　（新字新仮名、作品ID：106）　</li>\n",
      "<li><a href=\"../cards/000879/card108.html\">鼠小僧次郎吉</a>　（新字旧仮名、作品ID：108）　</li>\n",
      "<li><a href=\"../cards/000879/card3775.html\">念仁波念遠入礼帖</a>　（新字旧仮名、作品ID：3775）　</li>\n",
      "<li><a href=\"../cards/000879/card107.html\">年末の一日</a>　（新字新仮名、作品ID：107）　</li>\n",
      "<li><a href=\"../cards/000879/card112.html\">野呂松人形</a>　（新字新仮名、作品ID：112）　</li>\n",
      "<li><a href=\"../cards/000879/card3760.html\">八宝飯</a>　（新字旧仮名、作品ID：3760）　</li>\n",
      "<li><a href=\"../cards/000879/card3752.html\">俳画展覧会を観て</a>　（新字旧仮名、作品ID：3752）　</li>\n",
      "<li><a href=\"../cards/000879/card4275.html\">梅花に対する感情</a>　このジャアナリズムの一篇を謹厳なる西川英次郎君に献ず（新字旧仮名、作品ID：4275）　</li>\n",
      "<li><a href=\"../cards/000879/card3758.html\">売文問答</a>　（新字旧仮名、作品ID：3758）　</li>\n",
      "<li><a href=\"../cards/000879/card42377.html\">歯車</a>　（新字新仮名、作品ID：42377）　</li>\n",
      "<li><a href=\"../cards/000879/card40.html\">歯車</a>　（新字旧仮名、作品ID：40）　</li>\n",
      "<li><a href=\"../cards/000879/card23.html\">芭蕉雑記</a>　（新字旧仮名、作品ID：23）　</li>\n",
      "<li><a href=\"../cards/000879/card3811.html\">パステルの竜</a>　（新字旧仮名、作品ID：3811）　</li>\n",
      "<li><a href=\"../cards/000879/card3749.html\">はつきりした形をとる為めに</a>　（新字旧仮名、作品ID：3749）　</li>\n",
      "<li><a href=\"../cards/000879/card42.html\">鼻</a>　（新字新仮名、作品ID：42）　</li>\n",
      "<li><a href=\"../cards/000879/card41.html\">母</a>　（新字新仮名、作品ID：41）　</li>\n",
      "<li><a href=\"../cards/000879/card45.html\">春</a>　（新字新仮名、作品ID：45）　</li>\n",
      "<li><a href=\"../cards/000338/card2289.html\">バルタザアル</a>　（新字旧仮名、作品ID：2289）　 　　 →<a href=\"person338.html\">フランス アナトール</a>(著者) </li>\n",
      "<li><a href=\"../cards/001085/card44.html\">春の心臓</a>　（新字旧仮名、作品ID：44）　 　　 →<a href=\"person1085.html\">イエイツ ウィリアム・バトラー</a>(著者) </li>\n",
      "<li><a href=\"../cards/000879/card4281.html\">春の日のさした往来をぶらぶら一人歩いてゐる</a>　（新字旧仮名、作品ID：4281）　</li>\n",
      "<li><a href=\"../cards/000879/card2367.html\">春の夜は</a>　（新字旧仮名、作品ID：2367）　</li>\n",
      "<li><a href=\"../cards/000879/card46.html\">春の夜</a>　（新字新仮名、作品ID：46）　</li>\n",
      "<li><a href=\"../cards/000879/card43.html\">手巾</a>　（新字旧仮名、作品ID：43）　</li>\n",
      "<li><a href=\"../cards/000879/card1130.html\">ピアノ</a>　（新字旧仮名、作品ID：1130）　</li>\n",
      "<li><a href=\"../cards/000879/card3821.html\">微笑</a>　（新字旧仮名、作品ID：3821）　</li>\n",
      "<li><a href=\"../cards/000879/card24.html\">尾生の信</a>　（新字新仮名、作品ID：24）　</li>\n",
      "<li><a href=\"../cards/000879/card4304.html\">人及び芸術家としての薄田泣菫氏</a>　薄田泣菫氏及び同令夫人に献ず（新字旧仮名、作品ID：4304）　</li>\n",
      "<li><a href=\"../cards/000879/card171.html\">一塊の土</a>　（新字旧仮名、作品ID：171）　</li>\n",
      "<li><a href=\"../cards/000879/card3754.html\">一つの作が出来上るまで</a>　――「枯野抄」――「奉教人の死」――（新字旧仮名、作品ID：3754）　</li>\n",
      "<li><a href=\"../cards/000879/card3787.html\">一人の無名作家</a>　（新字旧仮名、作品ID：3787）　</li>\n",
      "<li><a href=\"../cards/000879/card47.html\">雛</a>　（新字旧仮名、作品ID：47）　</li>\n",
      "<li><a href=\"../cards/000879/card3780.html\">病牀雑記</a>　（新字旧仮名、作品ID：3780）　</li>\n",
      "<li><a href=\"../cards/000879/card3786.html\">病中雑記</a>　（新字旧仮名、作品ID：3786）　</li>\n",
      "<li><a href=\"../cards/000879/card54.html\">ひょっとこ</a>　（新字新仮名、作品ID：54）　</li>\n",
      "<li><a href=\"../cards/000879/card4303.html\">平田先生の翻訳</a>　（新字旧仮名、作品ID：4303）　</li>\n",
      "<li><a href=\"../cards/000879/card3791.html\">比呂志との問答</a>　（新字旧仮名、作品ID：3791）　</li>\n",
      "<li><a href=\"../cards/000879/card3781.html\">風変りな作品に就いて</a>　（新字旧仮名、作品ID：3781）　</li>\n",
      "<li><a href=\"../cards/000879/card52.html\">不思議な島</a>　（新字新仮名、作品ID：52）　</li>\n",
      "<li><a href=\"../cards/000879/card3785.html\">拊掌談</a>　（新字旧仮名、作品ID：3785）　</li>\n",
      "<li><a href=\"../cards/000879/card165.html\">二つの手紙</a>　（新字新仮名、作品ID：165）　</li>\n",
      "<li><a href=\"../cards/000879/card86.html\">二人小町</a>　（新字新仮名、作品ID：86）　</li>\n",
      "<li><a href=\"../cards/000879/card3822.html\">二人の友</a>　（新字旧仮名、作品ID：3822）　</li>\n",
      "<li><a href=\"../cards/000879/card28.html\">舞踏会</a>　（新字旧仮名、作品ID：28）　</li>\n",
      "<li><a href=\"../cards/000879/card51.html\">文放古</a>　（新字新仮名、作品ID：51）　</li>\n",
      "<li><a href=\"../cards/000879/card53.html\">冬</a>　（新字新仮名、作品ID：53）　</li>\n",
      "<li><a href=\"../cards/000879/card56820.html\">仏蘭西文学と僕</a>　（新字新仮名、作品ID：56820）　</li>\n",
      "<li><a href=\"../cards/000879/card4302.html\">プロレタリア文学論</a>　（新字旧仮名、作品ID：4302）　</li>\n",
      "<li><a href=\"../cards/000879/card25.html\">文学好きの家庭から</a>　（新字新仮名、作品ID：25）　</li>\n",
      "<li><a href=\"../cards/000879/card46227.html\">文芸鑑賞講座</a>　（新字旧仮名、作品ID：46227）　</li>\n",
      "<li><a href=\"../cards/000879/card26.html\">文芸的な、余りに文芸的な</a>　（新字旧仮名、作品ID：26）　</li>\n",
      "<li><a href=\"../cards/000879/card27.html\">文章</a>　（新字新仮名、作品ID：27）　</li>\n",
      "<li><a href=\"../cards/000879/card3755.html\">文章と言葉と</a>　（新字旧仮名、作品ID：3755）　</li>\n",
      "<li><a href=\"../cards/000879/card16033.html\">僻見</a>　（新字旧仮名、作品ID：16033）　</li>\n",
      "<li><a href=\"../cards/000879/card51217.html\">北京日記抄</a>　（新字新仮名、作品ID：51217）　</li>\n",
      "<li><a href=\"../cards/000879/card3777.html\">変遷その他</a>　（新字旧仮名、作品ID：3777）　</li>\n",
      "<li><a href=\"../cards/000879/card50.html\">報恩記</a>　（新字新仮名、作品ID：50）　</li>\n",
      "<li><a href=\"../cards/000879/card49.html\">奉教人の死</a>　（新字旧仮名、作品ID：49）　</li>\n",
      "<li><a href=\"../cards/000879/card4614.html\">ポーの片影</a>　（新字旧仮名、作品ID：4614）　</li>\n",
      "<li><a href=\"../cards/000879/card3796.html\">僕の友だち二三人</a>　（新字旧仮名、作品ID：3796）　</li>\n",
      "<li><a href=\"../cards/000879/card2368.html\">僕は</a>　（新字旧仮名、作品ID：2368）　</li>\n",
      "<li><a href=\"../cards/000879/card1136.html\">発句私見</a>　（新字旧仮名、作品ID：1136）　</li>\n",
      "<li><a href=\"../cards/000879/card55721.html\">本所両国</a>　（新字新仮名、作品ID：55721）　</li>\n",
      "<li><a href=\"../cards/000879/card48.html\">本所両国</a>　（新字旧仮名、作品ID：48）　</li>\n",
      "<li><a href=\"../cards/000879/card3741.html\">本の事</a>　（新字旧仮名、作品ID：3741）　</li>\n",
      "<li><a href=\"../cards/000879/card3783.html\">翻訳小品</a>　（新字旧仮名、作品ID：3783）　</li>\n",
      "<li><a href=\"../cards/000879/card3765.html\">正岡子規</a>　（新字旧仮名、作品ID：3765）　</li>\n",
      "<li><a href=\"../cards/000879/card95.html\">魔術</a>　（新字新仮名、作品ID：95）　</li>\n",
      "<li><a href=\"../cards/000879/card3789.html\">又一説？</a>　（新字旧仮名、作品ID：3789）　</li>\n",
      "<li><a href=\"../cards/000879/card3790.html\">亦一説？</a>　（新字旧仮名、作品ID：3790）　</li>\n",
      "<li><a href=\"../cards/000879/card96.html\">松江印象記</a>　（新字新仮名、作品ID：96）　</li>\n",
      "<li><a href=\"../cards/000879/card3805.html\">窓</a>　（新字旧仮名、作品ID：3805）　</li>\n",
      "<li><a href=\"../cards/000879/card98.html\">蜜柑</a>　（新字旧仮名、作品ID：98）　</li>\n",
      "<li><a href=\"../cards/000879/card24453.html\">蜜柑</a>　（旧字旧仮名、作品ID：24453）　</li>\n",
      "<li><a href=\"../cards/000879/card43017.html\">蜜柑</a>　（新字新仮名、作品ID：43017）　</li>\n",
      "<li><a href=\"../cards/000879/card99.html\">水の三日</a>　（新字新仮名、作品ID：99）　</li>\n",
      "<li><a href=\"../cards/000879/card1126.html\">三つの宝</a>　（新字新仮名、作品ID：1126）　</li>\n",
      "<li><a href=\"../cards/000879/card1124.html\">三つのなぜ</a>　（新字新仮名、作品ID：1124）　</li>\n",
      "<li><a href=\"../cards/000879/card1125.html\">三つの窓</a>　（新字新仮名、作品ID：1125）　</li>\n",
      "<li><a href=\"../cards/000879/card3828.html\">三つの指環</a>　（新字旧仮名、作品ID：3828）　</li>\n",
      "<li><a href=\"../cards/000879/card3782.html\">身のまはり</a>　（新字旧仮名、作品ID：3782）　</li>\n",
      "<li><a href=\"../cards/000879/card103.html\">妙な話</a>　（新字新仮名、作品ID：103）　</li>\n",
      "<li><a href=\"../cards/000879/card102.html\">貉</a>　（新字新仮名、作品ID：102）　</li>\n",
      "<li><a href=\"../cards/000879/card3792.html\">無題</a>　（新字旧仮名、作品ID：3792）　</li>\n",
      "<li><a href=\"../cards/000879/card97.html\">Mensura Zoili</a>　（新字新仮名、作品ID：97）　</li>\n",
      "<li><a href=\"../cards/000879/card101.html\">毛利先生</a>　（新字新仮名、作品ID：101）　</li>\n",
      "<li><a href=\"../cards/000879/card100.html\">桃太郎</a>　（新字新仮名、作品ID：100）　</li>\n",
      "<li><a href=\"../cards/000879/card43390.html\">森先生</a>　（新字新仮名、作品ID：43390）　</li>\n",
      "<li><a href=\"../cards/000879/card1133.html\">文部省の仮名遣改定案について</a>　（新字旧仮名、作品ID：1133）　</li>\n",
      "<li><a href=\"../cards/000879/card3743.html\">野人生計事</a>　（新字旧仮名、作品ID：3743）　</li>\n",
      "<li><a href=\"../cards/000879/card182.html\">保吉の手帳から</a>　（新字新仮名、作品ID：182）　</li>\n",
      "<li><a href=\"../cards/000879/card24454.html\">藪の中</a>　（旧字旧仮名、作品ID：24454）　</li>\n",
      "<li><a href=\"../cards/000879/card179.html\">藪の中</a>　（新字新仮名、作品ID：179）　</li>\n",
      "<li><a href=\"../cards/000879/card180.html\">山鴫</a>　（新字旧仮名、作品ID：180）　</li>\n",
      "<li><a href=\"../cards/000879/card4628.html\">槍ヶ岳紀行</a>　（新字旧仮名、作品ID：4628）　</li>\n",
      "<li><a href=\"../cards/000879/card181.html\">槍が岳に登った記</a>　（新字新仮名、作品ID：181）　</li>\n",
      "<li><a href=\"../cards/000879/card1127.html\">悠々荘</a>　（新字新仮名、作品ID：1127）　</li>\n",
      "<li><a href=\"../cards/000879/card188.html\">誘惑</a>　（新字新仮名、作品ID：188）　</li>\n",
      "<li><a href=\"../cards/000879/card3817.html\">雪</a>　（新字旧仮名、作品ID：3817）　</li>\n",
      "<li><a href=\"../cards/000879/card186.html\">夢</a>　（新字新仮名、作品ID：186）　</li>\n",
      "<li><a href=\"../cards/000879/card4308.html\">夢</a>　（新字旧仮名、作品ID：4308）　</li>\n",
      "<li><a href=\"../cards/000879/card187.html\">百合</a>　（新字新仮名、作品ID：187）　</li>\n",
      "<li><a href=\"../cards/000879/card184.html\">妖婆</a>　（新字新仮名、作品ID：184）　</li>\n",
      "<li><a href=\"../cards/000879/card1135.html\">横須賀小景</a>　（新字旧仮名、作品ID：1135）　</li>\n",
      "<li><a href=\"../cards/000879/card183.html\">世之助の話</a>　（新字旧仮名、作品ID：183）　</li>\n",
      "<li><a href=\"../cards/000879/card3757.html\">世の中と女</a>　（新字旧仮名、作品ID：3757）　</li>\n",
      "<li><a href=\"../cards/000879/card128.html\">羅生門</a>　（旧字旧仮名、作品ID：128）　</li>\n",
      "<li><a href=\"../cards/000879/card127.html\">羅生門</a>　（新字新仮名、作品ID：127）　</li>\n",
      "<li><a href=\"../cards/000879/card22.html\">羅生門の後に</a>　（新字新仮名、作品ID：22）　</li>\n",
      "<li><a href=\"../cards/000879/card3768.html\">リチャード・バートン訳「一千一夜物語」に就いて</a>　（新字旧仮名、作品ID：3768）　</li>\n",
      "<li><a href=\"../cards/000879/card134.html\">竜</a>　（新字新仮名、作品ID：134）　</li>\n",
      "<li><a href=\"../cards/000879/card133.html\">るしへる</a>　（新字新仮名、作品ID：133）　</li>\n",
      "<li><a href=\"../cards/000879/card4279.html\">恋愛と夫婦愛とを混同しては不可ぬ</a>　（新字旧仮名、作品ID：4279）　</li>\n",
      "<li><a href=\"../cards/000879/card131.html\">老年</a>　（新字新仮名、作品ID：131）　</li>\n",
      "<li><a href=\"../cards/000879/card3819.html\">臘梅</a>　（新字旧仮名、作品ID：3819）　</li>\n",
      "<li><a href=\"../cards/000879/card130.html\">六の宮の姫君</a>　（新字旧仮名、作品ID：130）　</li>\n",
      "<li><a href=\"../cards/000879/card132.html\">路上</a>　（新字新仮名、作品ID：132）　</li>\n",
      "<li><a href=\"../cards/000879/card94.html\">LOS CAPRICHOS</a>　（新字旧仮名、作品ID：94）　</li>\n",
      "<li><a href=\"../cards/000879/card24455.html\">露訳短篇集の序</a>　（旧字旧仮名、作品ID：24455）　</li>\n",
      "<li><a href=\"../cards/000879/card3812.html\">わが散文詩</a>　（新字旧仮名、作品ID：3812）　</li>\n",
      "<li><a href=\"../cards/000879/card3771.html\">わが俳諧修業</a>　（新字旧仮名、作品ID：3771）　</li>\n",
      "<li><a href=\"../cards/000879/card3798.html\">わが家の古玩</a>　（新字旧仮名、作品ID：3798）　</li>\n",
      "<li><a href=\"../cards/000879/card3806.html\">忘れられぬ印象</a>　（新字旧仮名、作品ID：3806）　</li>\n",
      "<li><a href=\"../cards/000879/card4871.html\">私の好きなロマンス中の女性</a>　（新字旧仮名、作品ID：4871）　</li>\n",
      "</ol>\n",
      "<h2><a name=\"sakuhin_list_2\">作業中の作品</a></h2>\n",
      "→<a href=\"list_inp879_1.html\">作業中　作家別作品一覧：芥川 竜之介</a>\n",
      "<ol>\n",
      "<li>江南游記　（新字新仮名、作品ID：51213）　</li>\n",
      "</ol>\n",
      "<h2>関連サイト</h2>\n",
      "<div align=\"right\"><a href=\"#top\">▲</a></div>\n",
      "<hr>\n",
      "<div>●作家リスト：公開中　\n",
      "<a href=\"person_a.html\">[あ]</a>\n",
      "<a href=\"person_ka.html\">[か]</a>\n",
      "<a href=\"person_sa.html\">[さ]</a>\n",
      "<a href=\"person_ta.html\">[た]</a>\n",
      "<a href=\"person_na.html\">[な]</a>\n",
      "<a href=\"person_ha.html\">[は]</a>\n",
      "<a href=\"person_ma.html\">[ま]</a>\n",
      "<a href=\"person_ya.html\">[や]</a>\n",
      "<a href=\"person_ra.html\">[ら]</a>\n",
      "<a href=\"person_wa.html\">[わ]</a>\n",
      "<a href=\"person_zz.html\">[他]</a><br>\n",
      "●作家リスト：作業中　\n",
      "<a href=\"person_inp_a.html\">[あ]</a>\n",
      "<a href=\"person_inp_ka.html\">[か]</a>\n",
      "<a href=\"person_inp_sa.html\">[さ]</a>\n",
      "<a href=\"person_inp_ta.html\">[た]</a>\n",
      "<a href=\"person_inp_na.html\">[な]</a>\n",
      "<a href=\"person_inp_ha.html\">[は]</a>\n",
      "<a href=\"person_inp_ma.html\">[ま]</a>\n",
      "<a href=\"person_inp_ya.html\">[や]</a>\n",
      "<a href=\"person_inp_ra.html\">[ら]</a>\n",
      "<a href=\"person_inp_wa.html\">[わ]</a>\n",
      "<a href=\"person_inp_zz.html\">[他]</a><br>\n",
      "●作家リスト：全　　　\n",
      "<a href=\"person_all_a.html\">[あ]</a>\n",
      "<a href=\"person_all_ka.html\">[か]</a>\n",
      "<a href=\"person_all_sa.html\">[さ]</a>\n",
      "<a href=\"person_all_ta.html\">[た]</a>\n",
      "<a href=\"person_all_na.html\">[な]</a>\n",
      "<a href=\"person_all_ha.html\">[は]</a>\n",
      "<a href=\"person_all_ma.html\">[ま]</a>\n",
      "<a href=\"person_all_ya.html\">[や]</a>\n",
      "<a href=\"person_all_ra.html\">[ら]</a>\n",
      "<a href=\"person_all_wa.html\">[わ]</a>\n",
      "<a href=\"person_all_zz.html\">[他]</a><br>\n",
      "●<a href=\"../index.html\">トップ</a>　●<a href=\"index_top.html\">インデックス</a>／<a href=\"index_all.html\">全</a></br></br></br></div>\n",
      "</hr></hr></body>\n",
      "</html>>\n"
     ]
    }
   ],
   "source": [
    "from bs4 import BeautifulSoup\n",
    "import urllib.request as req\n",
    "\n",
    "# 芥川龍之介の作者情報ページのHTMLを取得する\n",
    "url = \"http://www.aozora.gr.jp/index_pages/person879.html\"\n",
    "res = req.urlopen(url)\n",
    "\n",
    "# HTMLを解析する\n",
    "soup = BeautifulSoup(res, \"html.parser\")\n",
    "\n",
    "# 解析したHTML構造を表示する\n",
    "print(soup.decode_contents)"
   ]
  },
  {
   "cell_type": "code",
   "execution_count": 20,
   "metadata": {
    "collapsed": false,
    "scrolled": true
   },
   "outputs": [
    {
     "name": "stdout",
     "output_type": "stream",
     "text": [
      "愛読書の印象 > ../cards/000879/card4872.html\n",
      "秋 > ../cards/000879/card16.html\n",
      "芥川竜之介歌集 > ../cards/000879/card178.html\n",
      "アグニの神 > ../cards/000879/card43014.html\n",
      "アグニの神 > ../cards/000879/card15.html\n",
      "悪魔 > ../cards/000879/card3804.html\n",
      "浅草公園 > ../cards/000879/card21.html\n",
      "兄貴のような心持 > ../cards/000879/card43361.html\n",
      "あの頃の自分の事 > ../cards/000879/card17.html\n",
      "あばばばば > ../cards/000879/card14.html\n",
      "鴉片 > ../cards/000879/card1138.html\n",
      "或阿呆の一生 > ../cards/000879/card19.html\n",
      "或敵打の話 > ../cards/000879/card73.html\n",
      "或旧友へ送る手記 > ../cards/000879/card20.html\n",
      "或社会主義者 > ../cards/000879/card3827.html\n",
      "或日の大石内蔵助 > ../cards/000879/card122.html\n",
      "或恋愛小説 > ../cards/000879/card129.html\n",
      "闇中問答 > ../cards/000879/card18.html\n",
      "案頭の書 > ../cards/000879/card3767.html\n",
      "飯田蛇笏 > ../cards/000879/card43362.html\n",
      "遺書 > ../cards/000879/card16034.html\n",
      "イズムと云ふ語の意味次第 > ../cards/000879/card3750.html\n",
      "一番気乗のする時 > ../cards/000879/card3748.html\n",
      "一夕話 > ../cards/000879/card57.html\n",
      "伊東から > ../cards/000879/card3761.html\n",
      "糸女覚え書 > ../cards/000879/card58.html\n",
      "犬養君に就いて > ../cards/000879/card43363.html\n",
      "犬と笛 > ../cards/000879/card56.html\n",
      "芋粥 > ../cards/000879/card55.html\n",
      "岩野泡鳴氏 > ../cards/000879/card4274.html\n",
      "魚河岸 > ../cards/000879/card177.html\n",
      "内田百間氏 > ../cards/000879/card4312.html\n",
      "産屋 > ../cards/000879/card51864.html\n",
      "馬の脚 > ../cards/000879/card174.html\n",
      "海のほとり > ../cards/000879/card175.html\n",
      "囈語 > ../cards/000879/card3823.html\n",
      "運 > ../cards/000879/card176.html\n",
      "永久に不愉快な二重生活 > ../cards/000879/card3751.html\n",
      "英雄の器 > ../cards/000879/card35.html\n",
      "江口渙氏の事 > ../cards/000879/card43364.html\n",
      "槐 > ../cards/000879/card3825.html\n",
      "老いたる素戔嗚尊 > ../cards/000879/card118.html\n",
      "往生絵巻 > ../cards/000879/card117.html\n",
      "鸚鵡 > ../cards/000879/card3763.html\n",
      "大川の水 > ../cards/000879/card123.html\n",
      "大久保湖州 > ../cards/000879/card49328.html\n",
      "Ｏ君の新秋 > ../cards/000879/card3824.html\n",
      "尾形了斎覚え書 > ../cards/000879/card115.html\n",
      "おぎん > ../cards/000879/card116.html\n",
      "お時儀 > ../cards/000879/card119.html\n",
      "おしの > ../cards/000879/card125.html\n",
      "お富の貞操 > ../cards/000879/card126.html\n",
      "鬼ごつこ > ../cards/000879/card3826.html\n",
      "お律と子等と > ../cards/000879/card124.html\n",
      "温泉だより > ../cards/000879/card121.html\n",
      "女 > ../cards/000879/card120.html\n",
      "開化の良人 > ../cards/000879/card67.html\n",
      "開化の殺人 > ../cards/000879/card66.html\n",
      "貝殻 > ../cards/000879/card65.html\n",
      "解嘲 > ../cards/000879/card3764.html\n",
      "蛙 > ../cards/000879/card3800.html\n",
      "格さんと食慾 > ../cards/000879/card43365.html\n",
      "影 > ../cards/000879/card64.html\n",
      "片恋 > ../cards/000879/card74.html\n",
      "かちかち山 > ../cards/000879/card3814.html\n",
      "学校友だち > ../cards/000879/card3772.html\n",
      "河童 > ../cards/000879/card69.html\n",
      "河童 > ../cards/000879/card45761.html\n",
      "南瓜 > ../cards/000879/card3802.html\n",
      "神神の微笑 > ../cards/000879/card68.html\n",
      "「仮面」の人々 > ../cards/000879/card3766.html\n",
      "鴨猟 > ../cards/000879/card43366.html\n",
      "軽井沢で > ../cards/000879/card2323.html\n",
      "カルメン > ../cards/000879/card29.html\n",
      "彼 > ../cards/000879/card70.html\n",
      "彼　第二 > ../cards/000879/card71.html\n",
      "枯野抄 > ../cards/000879/card72.html\n",
      "彼の長所十八 > ../cards/000879/card43367.html\n",
      "寒山拾得 > ../cards/000879/card3809.html\n",
      "鑑定 > ../cards/000879/card3747.html\n",
      "奇怪な再会 > ../cards/000879/card77.html\n",
      "機関車を見ながら > ../cards/000879/card2366.html\n",
      "奇遇 > ../cards/000879/card76.html\n",
      "「菊池寛全集」の序 > ../cards/000879/card43368.html\n",
      "煙管 > ../cards/000879/card80.html\n",
      "木曽義仲論 > ../cards/000879/card81.html\n",
      "着物 > ../cards/000879/card1137.html\n",
      "凶 > ../cards/000879/card2327.html\n",
      "「鏡花全集」目録開口 > ../cards/000879/card93.html\n",
      "教訓談 > ../cards/000879/card3815.html\n",
      "京都日記 > ../cards/000879/card3803.html\n",
      "きりしとほろ上人伝 > ../cards/000879/card79.html\n",
      "疑惑 > ../cards/000879/card39.html\n",
      "金将軍 > ../cards/000879/card78.html\n",
      "鵠沼雑記 > ../cards/000879/card2328.html\n",
      "孔雀 > ../cards/000879/card3784.html\n",
      "首が落ちた話 > ../cards/000879/card91.html\n",
      "久保田万太郎氏 > ../cards/000879/card43369.html\n",
      "久米正雄 > ../cards/000879/card43370.html\n",
      "久米正雄氏の事 > ../cards/000879/card43371.html\n",
      "蜘蛛の糸 > ../cards/000879/card92.html\n",
      "クラリモンド > ../cards/001086/card4311.html\n",
      "軍艦金剛航海記 > ../cards/000879/card51865.html\n",
      "芸術その他 > ../cards/000879/card4273.html\n",
      "戯作三昧 > ../cards/000879/card38.html\n",
      "戯作三昧 > ../cards/000879/card37.html\n",
      "袈裟と盛遠 > ../cards/000879/card75.html\n",
      "結婚難並びに恋愛難 > ../cards/000879/card1131.html\n",
      "「ケルトの薄明」より > ../cards/001085/card1128.html\n",
      "玄鶴山房 > ../cards/000879/card36.html\n",
      "講演軍記 > ../cards/000879/card3797.html\n",
      "剛才人と柔才人と > ../cards/000879/card43375.html\n",
      "好色 > ../cards/000879/card90.html\n",
      "後世 > ../cards/000879/card33202.html\n",
      "校正後に > ../cards/000879/card89.html\n",
      "合理的、同時に多量の人間味 > ../cards/000879/card43376.html\n",
      "黄粱夢 > ../cards/000879/card88.html\n",
      "黒衣聖母 > ../cards/000879/card85.html\n",
      "小杉未醒氏 > ../cards/000879/card43373.html\n",
      "古千屋 > ../cards/000879/card82.html\n",
      "骨董羹 > ../cards/000879/card3738.html\n",
      "孤独地獄 > ../cards/000879/card83.html\n",
      "子供の病気 > ../cards/000879/card84.html\n",
      "湖南の扇 > ../cards/000879/card87.html\n",
      "近藤浩一路氏 > ../cards/000879/card43374.html\n",
      "金春会の「隅田川」 > ../cards/000879/card1134.html\n",
      "西郷隆盛 > ../cards/000879/card136.html\n",
      "才一巧亦不二 > ../cards/000879/card3779.html\n",
      "西方の人 > ../cards/000879/card141.html\n",
      "鷺と鴛鴦 > ../cards/000879/card3816.html\n",
      "雑信一束 > ../cards/000879/card51214.html\n",
      "雑筆 > ../cards/000879/card3739.html\n",
      "佐藤春夫氏 > ../cards/000879/card4277.html\n",
      "佐藤春夫氏の事 > ../cards/000879/card43377.html\n",
      "さまよえる猶太人 > ../cards/000879/card185.html\n",
      "寒さ > ../cards/000879/card137.html\n",
      "沙羅の花 > ../cards/000879/card3820.html\n",
      "猿 > ../cards/000879/card139.html\n",
      "猿蟹合戦 > ../cards/000879/card140.html\n",
      "三右衛門の罪 > ../cards/000879/card138.html\n",
      "死後 > ../cards/000879/card146.html\n",
      "地獄変 > ../cards/000879/card61.html\n",
      "地獄変 > ../cards/000879/card60.html\n",
      "詩集 > ../cards/000879/card3818.html\n",
      "十本の針 > ../cards/000879/card13.html\n",
      "支那の画 > ../cards/000879/card3742.html\n",
      "「支那游記」自序 > ../cards/000879/card51212.html\n",
      "島木赤彦氏 > ../cards/000879/card43380.html\n",
      "耳目記 > ../cards/000879/card2326.html\n",
      "霜夜 > ../cards/000879/card1129.html\n",
      "邪宗門 > ../cards/000879/card59.html\n",
      "上海游記 > ../cards/000879/card51215.html\n",
      "十円札 > ../cards/000879/card62.html\n",
      "秋山図 > ../cards/000879/card162.html\n",
      "蒐書 > ../cards/000879/card3769.html\n",
      "侏儒の言葉 > ../cards/000879/card43751.html\n",
      "侏儒の言葉 > ../cards/000879/card158.html\n",
      "「侏儒の言葉」の序 > ../cards/000879/card24451.html\n",
      "酒虫 > ../cards/000879/card161.html\n",
      "出帆 > ../cards/000879/card160.html\n",
      "じゅりあの・吉助 > ../cards/000879/card63.html\n",
      "俊寛 > ../cards/000879/card159.html\n",
      "将軍 > ../cards/000879/card156.html\n",
      "商賈聖母 > ../cards/000879/card3813.html\n",
      "饒舌 > ../cards/000879/card3801.html\n",
      "小説作法十則 > ../cards/000879/card4313.html\n",
      "小説の戯曲化 > ../cards/000879/card4278.html\n",
      "小説の読者 > ../cards/000879/card3794.html\n",
      "少年 > ../cards/000879/card155.html\n",
      "娼婦美と冒険 > ../cards/000879/card3770.html\n",
      "食物として > ../cards/000879/card3795.html\n",
      "虱 > ../cards/000879/card148.html\n",
      "しるこ > ../cards/000879/card24452.html\n",
      "白 > ../cards/000879/card149.html\n",
      "蜃気楼 > ../cards/000879/card147.html\n",
      "新緑の庭 > ../cards/000879/card4280.html\n",
      "塵労 > ../cards/000879/card2322.html\n",
      "素戔嗚尊 > ../cards/000879/card153.html\n",
      "捨児 > ../cards/000879/card154.html\n",
      "青年と死 > ../cards/000879/card142.html\n",
      "西洋画のやうな日本画 > ../cards/000879/card3756.html\n",
      "仙人 > ../cards/000879/card2325.html\n",
      "仙人 > ../cards/000879/card144.html\n",
      "仙人 > ../cards/000879/card143.html\n",
      "葬儀記 > ../cards/000879/card150.html\n",
      "創作 > ../cards/000879/card3799.html\n",
      "早春 > ../cards/000879/card152.html\n",
      "漱石山房の秋 > ../cards/000879/card151.html\n",
      "漱石山房の冬 > ../cards/000879/card2321.html\n",
      "装幀に就いての私の意見 > ../cards/000879/card4301.html\n",
      "続西方の人 > ../cards/000879/card191.html\n",
      "続澄江堂雑記 > ../cards/000879/card3746.html\n",
      "続芭蕉雑記 > ../cards/000879/card189.html\n",
      "続文芸的な、余りに文芸的な > ../cards/000879/card190.html\n",
      "続野人生計事 > ../cards/000879/card3744.html\n",
      "その頃の赤門生活 > ../cards/000879/card3793.html\n",
      "素描三題 > ../cards/000879/card157.html\n",
      "大正十二年九月一日の大震に際して > ../cards/000879/card3762.html\n",
      "大導寺信輔の半生 > ../cards/000879/card32.html\n",
      "大導寺信輔の半生 > ../cards/000879/card46672.html\n",
      "第四の夫から > ../cards/000879/card33.html\n",
      "滝田哲太郎君 > ../cards/000879/card43382.html\n",
      "滝田哲太郎氏 > ../cards/000879/card43383.html\n",
      "竜村平蔵氏の芸術 > ../cards/000879/card1132.html\n",
      "谷崎潤一郎氏 > ../cards/000879/card4276.html\n",
      "たね子の憂鬱 > ../cards/000879/card164.html\n",
      "煙草と悪魔 > ../cards/000879/card163.html\n",
      "田端人 > ../cards/000879/card3773.html\n",
      "田端日記 > ../cards/000879/card2692.html\n",
      "近頃の幽霊 > ../cards/000879/card3759.html\n",
      "父 > ../cards/000879/card30.html\n",
      "忠義 > ../cards/000879/card173.html\n",
      "偸盗 > ../cards/000879/card31.html\n",
      "澄江堂雑記 > ../cards/000879/card3745.html\n",
      "長江游記 > ../cards/000879/card51216.html\n",
      "樗牛の事 > ../cards/000879/card172.html\n",
      "追憶 > ../cards/000879/card1141.html\n",
      "恒藤恭氏 > ../cards/000879/card43385.html\n",
      "手紙 > ../cards/000879/card166.html\n",
      "出来上った人 > ../cards/000879/card43386.html\n",
      "伝吉の敵打ち > ../cards/000879/card34.html\n",
      "点鬼簿 > ../cards/000879/card167.html\n",
      "点心 > ../cards/000879/card3740.html\n",
      "東京小品 > ../cards/000879/card3807.html\n",
      "東京に生れて > ../cards/000879/card45623.html\n",
      "東西問答 > ../cards/000879/card3788.html\n",
      "道祖問答 > ../cards/000879/card135.html\n",
      "動物園 > ../cards/000879/card3810.html\n",
      "東洋の秋 > ../cards/000879/card2369.html\n",
      "都会で > ../cards/000879/card2324.html\n",
      "杜子春 > ../cards/000879/card170.html\n",
      "杜子春 > ../cards/000879/card43015.html\n",
      "豊島与志雄氏の事 > ../cards/000879/card43387.html\n",
      "虎の話 > ../cards/000879/card168.html\n",
      "トロッコ > ../cards/000879/card43016.html\n",
      "トロツコ > ../cards/000879/card169.html\n",
      "長崎 > ../cards/000879/card1140.html\n",
      "長崎小品 > ../cards/000879/card104.html\n",
      "夏目先生と滝田さん > ../cards/000879/card43388.html\n",
      "南京の基督 > ../cards/000879/card105.html\n",
      "廿年後之戦争 > ../cards/000879/card145.html\n",
      "偽者二題 > ../cards/000879/card3778.html\n",
      "尼提 > ../cards/000879/card109.html\n",
      "日光小品 > ../cards/000879/card110.html\n",
      "日本小説の支那訳 > ../cards/000879/card3774.html\n",
      "日本の女 > ../cards/000879/card3776.html\n",
      "入社の辞 > ../cards/000879/card3753.html\n",
      "女仙 > ../cards/000879/card1031.html\n",
      "女体 > ../cards/000879/card114.html\n",
      "庭 > ../cards/000879/card111.html\n",
      "沼 > ../cards/000879/card3808.html\n",
      "沼地 > ../cards/000879/card113.html\n",
      "葱 > ../cards/000879/card106.html\n",
      "鼠小僧次郎吉 > ../cards/000879/card108.html\n",
      "念仁波念遠入礼帖 > ../cards/000879/card3775.html\n",
      "年末の一日 > ../cards/000879/card107.html\n",
      "野呂松人形 > ../cards/000879/card112.html\n",
      "八宝飯 > ../cards/000879/card3760.html\n",
      "俳画展覧会を観て > ../cards/000879/card3752.html\n",
      "梅花に対する感情 > ../cards/000879/card4275.html\n",
      "売文問答 > ../cards/000879/card3758.html\n",
      "歯車 > ../cards/000879/card42377.html\n",
      "歯車 > ../cards/000879/card40.html\n",
      "芭蕉雑記 > ../cards/000879/card23.html\n",
      "パステルの竜 > ../cards/000879/card3811.html\n",
      "はつきりした形をとる為めに > ../cards/000879/card3749.html\n",
      "鼻 > ../cards/000879/card42.html\n",
      "母 > ../cards/000879/card41.html\n",
      "春 > ../cards/000879/card45.html\n",
      "バルタザアル > ../cards/000338/card2289.html\n",
      "春の心臓 > ../cards/001085/card44.html\n",
      "春の日のさした往来をぶらぶら一人歩いてゐる > ../cards/000879/card4281.html\n",
      "春の夜は > ../cards/000879/card2367.html\n",
      "春の夜 > ../cards/000879/card46.html\n",
      "手巾 > ../cards/000879/card43.html\n",
      "ピアノ > ../cards/000879/card1130.html\n",
      "微笑 > ../cards/000879/card3821.html\n",
      "尾生の信 > ../cards/000879/card24.html\n",
      "人及び芸術家としての薄田泣菫氏 > ../cards/000879/card4304.html\n",
      "一塊の土 > ../cards/000879/card171.html\n",
      "一つの作が出来上るまで > ../cards/000879/card3754.html\n",
      "一人の無名作家 > ../cards/000879/card3787.html\n",
      "雛 > ../cards/000879/card47.html\n",
      "病牀雑記 > ../cards/000879/card3780.html\n",
      "病中雑記 > ../cards/000879/card3786.html\n",
      "ひょっとこ > ../cards/000879/card54.html\n",
      "平田先生の翻訳 > ../cards/000879/card4303.html\n",
      "比呂志との問答 > ../cards/000879/card3791.html\n",
      "風変りな作品に就いて > ../cards/000879/card3781.html\n",
      "不思議な島 > ../cards/000879/card52.html\n",
      "拊掌談 > ../cards/000879/card3785.html\n",
      "二つの手紙 > ../cards/000879/card165.html\n",
      "二人小町 > ../cards/000879/card86.html\n",
      "二人の友 > ../cards/000879/card3822.html\n",
      "舞踏会 > ../cards/000879/card28.html\n",
      "文放古 > ../cards/000879/card51.html\n",
      "冬 > ../cards/000879/card53.html\n",
      "仏蘭西文学と僕 > ../cards/000879/card56820.html\n",
      "プロレタリア文学論 > ../cards/000879/card4302.html\n",
      "文学好きの家庭から > ../cards/000879/card25.html\n",
      "文芸鑑賞講座 > ../cards/000879/card46227.html\n",
      "文芸的な、余りに文芸的な > ../cards/000879/card26.html\n",
      "文章 > ../cards/000879/card27.html\n",
      "文章と言葉と > ../cards/000879/card3755.html\n",
      "僻見 > ../cards/000879/card16033.html\n",
      "北京日記抄 > ../cards/000879/card51217.html\n",
      "変遷その他 > ../cards/000879/card3777.html\n",
      "報恩記 > ../cards/000879/card50.html\n",
      "奉教人の死 > ../cards/000879/card49.html\n",
      "ポーの片影 > ../cards/000879/card4614.html\n",
      "僕の友だち二三人 > ../cards/000879/card3796.html\n",
      "僕は > ../cards/000879/card2368.html\n",
      "発句私見 > ../cards/000879/card1136.html\n",
      "本所両国 > ../cards/000879/card55721.html\n",
      "本所両国 > ../cards/000879/card48.html\n",
      "本の事 > ../cards/000879/card3741.html\n",
      "翻訳小品 > ../cards/000879/card3783.html\n",
      "正岡子規 > ../cards/000879/card3765.html\n",
      "魔術 > ../cards/000879/card95.html\n",
      "又一説？ > ../cards/000879/card3789.html\n",
      "亦一説？ > ../cards/000879/card3790.html\n",
      "松江印象記 > ../cards/000879/card96.html\n",
      "窓 > ../cards/000879/card3805.html\n",
      "蜜柑 > ../cards/000879/card98.html\n",
      "蜜柑 > ../cards/000879/card24453.html\n",
      "蜜柑 > ../cards/000879/card43017.html\n",
      "水の三日 > ../cards/000879/card99.html\n",
      "三つの宝 > ../cards/000879/card1126.html\n",
      "三つのなぜ > ../cards/000879/card1124.html\n",
      "三つの窓 > ../cards/000879/card1125.html\n",
      "三つの指環 > ../cards/000879/card3828.html\n",
      "身のまはり > ../cards/000879/card3782.html\n",
      "妙な話 > ../cards/000879/card103.html\n",
      "貉 > ../cards/000879/card102.html\n",
      "無題 > ../cards/000879/card3792.html\n",
      "Mensura Zoili > ../cards/000879/card97.html\n",
      "毛利先生 > ../cards/000879/card101.html\n",
      "桃太郎 > ../cards/000879/card100.html\n",
      "森先生 > ../cards/000879/card43390.html\n",
      "文部省の仮名遣改定案について > ../cards/000879/card1133.html\n",
      "野人生計事 > ../cards/000879/card3743.html\n",
      "保吉の手帳から > ../cards/000879/card182.html\n",
      "藪の中 > ../cards/000879/card24454.html\n",
      "藪の中 > ../cards/000879/card179.html\n",
      "山鴫 > ../cards/000879/card180.html\n",
      "槍ヶ岳紀行 > ../cards/000879/card4628.html\n",
      "槍が岳に登った記 > ../cards/000879/card181.html\n",
      "悠々荘 > ../cards/000879/card1127.html\n",
      "誘惑 > ../cards/000879/card188.html\n",
      "雪 > ../cards/000879/card3817.html\n",
      "夢 > ../cards/000879/card186.html\n",
      "夢 > ../cards/000879/card4308.html\n",
      "百合 > ../cards/000879/card187.html\n",
      "妖婆 > ../cards/000879/card184.html\n",
      "横須賀小景 > ../cards/000879/card1135.html\n",
      "世之助の話 > ../cards/000879/card183.html\n",
      "世の中と女 > ../cards/000879/card3757.html\n",
      "羅生門 > ../cards/000879/card128.html\n",
      "羅生門 > ../cards/000879/card127.html\n",
      "羅生門の後に > ../cards/000879/card22.html\n",
      "リチャード・バートン訳「一千一夜物語」に就いて > ../cards/000879/card3768.html\n",
      "竜 > ../cards/000879/card134.html\n",
      "るしへる > ../cards/000879/card133.html\n",
      "恋愛と夫婦愛とを混同しては不可ぬ > ../cards/000879/card4279.html\n",
      "老年 > ../cards/000879/card131.html\n",
      "臘梅 > ../cards/000879/card3819.html\n",
      "六の宮の姫君 > ../cards/000879/card130.html\n",
      "路上 > ../cards/000879/card132.html\n",
      "LOS CAPRICHOS > ../cards/000879/card94.html\n",
      "露訳短篇集の序 > ../cards/000879/card24455.html\n",
      "わが散文詩 > ../cards/000879/card3812.html\n",
      "わが俳諧修業 > ../cards/000879/card3771.html\n",
      "わが家の古玩 > ../cards/000879/card3798.html\n",
      "忘れられぬ印象 > ../cards/000879/card3806.html\n",
      "私の好きなロマンス中の女性 > ../cards/000879/card4871.html\n"
     ]
    }
   ],
   "source": [
    "# 著作リストのデータを抽出する\n",
    "auhoring_list = soup.select(\"ol > li\")\n",
    "for li in auhoring_list:\n",
    "    a = li.a\n",
    "    if a != None:\n",
    "        name = a.string\n",
    "        href = a.attrs[\"href\"]\n",
    "        print(name, \">\", href)\n"
   ]
  },
  {
   "cell_type": "markdown",
   "metadata": {
    "collapsed": true
   },
   "source": [
    "## CSSセレクタの使い方を学ぶ"
   ]
  },
  {
   "cell_type": "markdown",
   "metadata": {},
   "source": [
    "CSSセレクタをうまく指定することで、対象のHTMLから目当ての情報をきれいに取り出すことが出来る。  \n",
    "CSSセレクタの指定方法を下記に示す。"
   ]
  },
  {
   "cell_type": "markdown",
   "metadata": {},
   "source": [
    "#### セレクタの基本書式"
   ]
  },
  {
   "cell_type": "markdown",
   "metadata": {},
   "source": [
    "|書式|説明|\n",
    "|----|----|\n",
    "|\\*|すべての要素|\n",
    "|要素名|要素名の要素(例)p div|\n",
    "|.クラス名|クラス名をつけた要素|\n",
    "|#id名|id属性をつけた要素|"
   ]
  },
  {
   "cell_type": "markdown",
   "metadata": {},
   "source": [
    "#### セレクタ同士の関係を指定する書式"
   ]
  },
  {
   "cell_type": "markdown",
   "metadata": {},
   "source": [
    "|書式|説明|\n",
    "|----|----|\n",
    "|セレクタ,セレクタ|列挙された複数のセレクタ(例)h1,h2|\n",
    "|セレクタ セレクタ|下の階層の子孫要素(例)div h1|\n",
    "|セレクタ>セレクタ|直下の階層の子要素(例)div>h1|\n",
    "|セレクタ+セレクタ|同じ階層で直後に隣接している要素(例)h1+h2|\n",
    "|セレクタ1~セレクタ2|セレクタ1からセレクタ2までの要素(例)p~ul|"
   ]
  },
  {
   "cell_type": "markdown",
   "metadata": {},
   "source": [
    "#### セレクタの属性による書式設定"
   ]
  },
  {
   "cell_type": "markdown",
   "metadata": {},
   "source": [
    "|書式|説明|\n",
    "|----|----|\n",
    "|要素[att]|特定の属性名attを持つ要素|\n",
    "|要素[att=\"val\"]|att属性にvalという値を持つ要素|\n",
    "|要素[att~=\"val\"]|att属性の値候補val(ホワイトスペース区切り)に一致した要素|\n",
    "|要素[att&#124;=\"val\"]|att属性の値がvalで始まる要素(ただしハイフン区切り)|\n",
    "|要素[att^=\"val\"]|att属性の値がvalで始まる要素|\n",
    "|要素[att$=\"val\"]|att属性の値がvalで終わる要素|\n",
    "|要素[att*=\"val\"]|att属性の値にvalを含む要素|"
   ]
  },
  {
   "cell_type": "markdown",
   "metadata": {},
   "source": [
    "#### 位置や状態を指定する書式"
   ]
  },
  {
   "cell_type": "markdown",
   "metadata": {},
   "source": [
    "|書式|説明|\n",
    "|---|---|\n",
    "|要素:root|ルートとなる要素|\n",
    "|要素:nth-child(n)|n番目の子となる要素|\n",
    "|要素:nth-last-child(n)|後ろからn番目となる要素|\n",
    "|要素:nth-of-type(n)|n番目のその種類の要素|\n",
    "|要素:first-child|子として最初の要素|\n",
    "|要素:last-child|子として最後の要素|\n",
    "|要素:first-of-type|最初のその種類の要素|\n",
    "|要素:last-of-type|最後のその種類の要素|\n",
    "|要素:only-child|子として唯一の要素|\n",
    "|要素:only-of-type|子として唯一の種類の要素|\n",
    "|要素:empty|要素内容が空となる要素|\n",
    "|要素:lang(code)|特定の言語にcodeを指定された要素|\n",
    "|要素:not(s)|s以外の要素|\n",
    "|要素:enabled|要項となっているUI要素|\n",
    "|要素:disabled|無効となっているUI要素|\n",
    "|要素:checked|チェックされているUI要素|"
   ]
  },
  {
   "cell_type": "markdown",
   "metadata": {},
   "source": [
    "### プレースホルダ - CSSセレクタの選択対象をgraphvizでグラフ化したい"
   ]
  },
  {
   "cell_type": "code",
   "execution_count": 21,
   "metadata": {
    "collapsed": false,
    "scrolled": true
   },
   "outputs": [
    {
     "name": "stdout",
     "output_type": "stream",
     "text": [
      "digraph {\n",
      "\tnode [shape=circle]\n",
      "\t0 [label=0]\n",
      "\t1 [label=1]\n",
      "\t2 [label=2]\n",
      "\t3 [label=3]\n",
      "\t4 [label=4]\n",
      "\t5 [label=5]\n",
      "\t6 [label=6]\n",
      "\t7 [label=7]\n",
      "\t8 [label=8]\n",
      "\t9 [label=9]\n",
      "\t10 [label=10]\n",
      "\t11 [label=11]\n",
      "\t12 [label=12]\n",
      "\t13 [label=13]\n",
      "\t14 [label=14]\n",
      "\t0 -> 1\n",
      "\t0 -> 2\n",
      "\t1 -> 3\n",
      "\t1 -> 4\n",
      "\t2 -> 5\n",
      "\t2 -> 6\n",
      "\t3 -> 7\n",
      "\t3 -> 8\n",
      "\t4 -> 9\n",
      "\t4 -> 10\n",
      "\t5 -> 11\n",
      "\t5 -> 12\n",
      "\t6 -> 13\n",
      "\t6 -> 14\n",
      "}\n"
     ]
    },
    {
     "data": {
      "text/plain": [
       "'binary_tree.png'"
      ]
     },
     "execution_count": 21,
     "metadata": {},
     "output_type": "execute_result"
    }
   ],
   "source": [
    "from graphviz import Digraph\n",
    "\n",
    "# formatはpngを指定(他にはPDF, PNG, SVGなどが指定可)\n",
    "G = Digraph(format='png')\n",
    "G.attr('node', shape='circle')\n",
    "\n",
    "N = 15    # ノード数\n",
    "\n",
    "# ノードの追加\n",
    "for i in range(N):\n",
    "    G.node(str(i), str(i))\n",
    "\n",
    "# 辺の追加\n",
    "for i in range(N):\n",
    "    if (i - 1) // 2 >= 0:\n",
    "        G.edge(str((i - 1) // 2), str(i))\n",
    "\n",
    "# print()するとdot形式で出力される\n",
    "print(G)\n",
    "\n",
    "# binary_tree.pngで保存\n",
    "G.render('binary_tree')"
   ]
  },
  {
   "cell_type": "markdown",
   "metadata": {
    "collapsed": true
   },
   "source": [
    "## CSSセレクタを抽出する練習をしてみよう"
   ]
  },
  {
   "cell_type": "markdown",
   "metadata": {},
   "source": [
    "下記のhtmlデータから、Numbersの要素を取り出す。\n",
    "\n",
    "```html\n",
    "<ul id=\"bible\">\n",
    "  <li id=\"ge\">Genesis</li>\n",
    "  <li id=\"ex\">Exodus</li>\n",
    "  <li id=\"le\">Leviticus</li>\n",
    "  <li id=\"nu\">Numbers</li>\n",
    "  <li id=\"de\">Deuteronomy</li>\n",
    "</ul>\n",
    "```\n",
    "\n",
    "下記にSCCセレクタを使ってNumbersの要素を取り出すプログラムを示す。"
   ]
  },
  {
   "cell_type": "code",
   "execution_count": 22,
   "metadata": {
    "collapsed": false,
    "scrolled": true
   },
   "outputs": [
    {
     "name": "stdout",
     "output_type": "stream",
     "text": [
      "# CSSセレクタで検索する方法\n",
      "sel(#nu) => Numbers\n",
      "sel(li#nu) => Numbers\n",
      "sel(ul > li#nu) => Numbers\n",
      "sel(#bible #nu) => Numbers\n",
      "sel(#bible > #nu) => Numbers\n",
      "sel(ul#bible > li#nu) => Numbers\n",
      "sel(li[id=\"nu\"]) => Numbers\n",
      "sel(li:nth-of-type(4)) => Numbers\n",
      "# その他の方法\n",
      "Numbers\n",
      "Numbers\n"
     ]
    }
   ],
   "source": [
    "from bs4 import BeautifulSoup\n",
    "\n",
    "books = '''\n",
    "<ul id=\"bible\">\n",
    "  <li id=\"ge\">Genesis</li>\n",
    "  <li id=\"ex\">Exodus</li>\n",
    "  <li id=\"le\">Leviticus</li>\n",
    "  <li id=\"nu\">Numbers</li>\n",
    "  <li id=\"de\">Deuteronomy</li>\n",
    "</ul>\n",
    "'''\n",
    "\n",
    "soup = BeautifulSoup(books, \"html.parser\")\n",
    "\n",
    "print(\"# CSSセレクタで検索する方法\")\n",
    "sel = lambda q : print(\"sel(\" + q +  \") => \" + soup.select_one(q).string)\n",
    "sel(\"#nu\") # 「#id名」で指定\n",
    "sel(\"li#nu\") # 「li」要素の中で「#id名」がついているものを指定\n",
    "sel(\"ul > li#nu\") # 「ul」要素直下の「li」要素の中で「#id名」がついているものを指定\n",
    "sel(\"#bible #nu\") # 「#id名1」と「#id名2」のいずれかにヒットするものを指定\n",
    "sel(\"#bible > #nu\") # 「#id名1」直下の要素のうち「#id名2」を指定\n",
    "sel(\"ul#bible > li#nu\") # 「#id名1」のついた「un」要素の直下にある、「#id名2」のついた「li」を指定\n",
    "sel('li[id=\"nu\"]') # 属性に「id=\"nu\"」がついた「li」要素を指定\n",
    "sel(\"li:nth-of-type(4)\") # 4番目の「li」要素\n",
    "\n",
    "print(\"# その他の方法\")\n",
    "print(soup.select(\"li\")[3].string) # 「li」要素の中の3つ目\n",
    "print(soup.find_all(\"li\")[3].string) # 「li」要素の中の3つ目\n"
   ]
  },
  {
   "cell_type": "markdown",
   "metadata": {
    "collapsed": true
   },
   "source": [
    "### CSSセレクタで野菜・フルーツを選択しよう"
   ]
  },
  {
   "cell_type": "markdown",
   "metadata": {},
   "source": [
    "下記のHTMLから野菜・フルーツを選択する。"
   ]
  },
  {
   "cell_type": "markdown",
   "metadata": {},
   "source": [
    "```html\n",
    "<html>\n",
    "<div id=\"main-goods\" role=\"page\">\n",
    "  <h1>フルーツや野菜</h1>\n",
    "  <ul id=\"fr-list\">\n",
    "    <li class=\"red green\" data-lo=\"jp\">リンゴ</li>\n",
    "    <li class=\"purple\" data-lo=\"us\">ブドウ</li>\n",
    "    <li class=\"yellow\" data-lo=\"us\">レモン</li>\n",
    "    <li class=\"yellow\" data-lo=\"jp\">オレンジ</li>\n",
    "  </ul>\n",
    "  <ul id=\"ve-list\">\n",
    "    <li class=\"white green\" data-lo=\"jp\">ダイコン</li>\n",
    "    <li class=\"red green\" data-lo=\"us\">パプリカ</li>\n",
    "    <li class=\"black\" data-lo=\"jp\">ナス</li>\n",
    "    <li class=\"black\" data-lo=\"us\">アボカド</li>\n",
    "    <li class=\"white\" data-lo=\"cn\">レンコン</li>\n",
    "  </ul>\n",
    "</div>\n",
    "<body>\n",
    "</body>\n",
    "</html>\n",
    "```"
   ]
  },
  {
   "cell_type": "markdown",
   "metadata": {},
   "source": [
    "上のHTMLから、アボカドを取り出したい。どのようなコードを書けば良いか？"
   ]
  },
  {
   "cell_type": "code",
   "execution_count": null,
   "metadata": {
    "collapsed": true
   },
   "outputs": [],
   "source": [
    "# BeautifulSoupライブラリをインポート\n",
    "from bs4 import BeautifulSoup\n",
    "\n",
    "# HTMLファイル\n",
    "html = '''\n",
    "<html>\n",
    "<div id=\"main-goods\" role=\"page\">\n",
    "  <h1>フルーツや野菜</h1>\n",
    "  <ul id=\"fr-list\">\n",
    "    <li class=\"red green\" data-lo=\"jp\">リンゴ</li>\n",
    "    <li class=\"purple\" data-lo=\"us\">ブドウ</li>\n",
    "    <li class=\"yellow\" data-lo=\"us\">レモン</li>\n",
    "    <li class=\"yellow\" data-lo=\"jp\">オレンジ</li>\n",
    "  </ul>\n",
    "  <ul id=\"ve-list\">\n",
    "    <li class=\"white green\" data-lo=\"jp\">ダイコン</li>\n",
    "    <li class=\"red green\" data-lo=\"us\">パプリカ</li>\n",
    "    <li class=\"black\" data-lo=\"jp\">ナス</li>\n",
    "    <li class=\"black\" data-lo=\"us\">アボカド</li>\n",
    "    <li class=\"white\" data-lo=\"cn\">レンコン</li>\n",
    "  </ul>\n",
    "</div>\n",
    "<body>\n",
    "</body>\n",
    "</html>\n",
    "'''\n",
    "\n",
    "# 対象のHTMLをパースしてBeautifulSoupインスタンスを作成\n",
    "soup = BeautifulSoup(html, \"html.parser\")\n",
    "\n",
    "select = lambda q : print(\"select(\" + q + \")\" + soup.select_one(q).string)"
   ]
  }
 ],
 "metadata": {
  "kernelspec": {
   "display_name": "Python 3",
   "language": "python",
   "name": "python3"
  },
  "language_info": {
   "codemirror_mode": {
    "name": "ipython",
    "version": 3
   },
   "file_extension": ".py",
   "mimetype": "text/x-python",
   "name": "python",
   "nbconvert_exporter": "python",
   "pygments_lexer": "ipython3",
   "version": "3.5.0"
  }
 },
 "nbformat": 4,
 "nbformat_minor": 0
}
